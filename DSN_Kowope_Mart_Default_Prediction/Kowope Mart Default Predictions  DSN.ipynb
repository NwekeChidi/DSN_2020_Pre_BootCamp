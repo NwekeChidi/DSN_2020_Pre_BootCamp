{
 "cells": [
  {
   "cell_type": "markdown",
   "metadata": {},
   "source": [
    "### Leveraging Machine learning to predict customers who are likely to default or not.\n",
    "#### There has been recent cases of credit defaults and Kowope Mart will like to have a system that profiles customers who are worthy of the card with minimum if not zero risk of defaulting.\n",
    "\n",
    "# This is Qualification Competition for the Data Science Nigeria AI Bootcamp 2020."
   ]
  },
  {
   "cell_type": "code",
   "execution_count": 1,
   "metadata": {},
   "outputs": [],
   "source": [
    "#Importing Libraries\n",
    "\n",
    "import numpy as np\n",
    "import pandas as pd\n",
    "import matplotlib.pyplot as plt\n",
    "import seaborn as sns\n",
    "import warnings\n",
    "from IPython.display import display\n",
    "from sklearn.model_selection import train_test_split\n",
    "from sklearn.metrics import roc_auc_score\n",
    "from catboost import CatBoostClassifier\n",
    "\n",
    "pd.set_option('display.max_columns', 200)\n",
    "pd.set_option('display.max_rows', 200)\n",
    "warnings.filterwarnings('ignore')\n",
    "%matplotlib inline"
   ]
  },
  {
   "cell_type": "code",
   "execution_count": 2,
   "metadata": {},
   "outputs": [],
   "source": [
    "# Reading in the data\n",
    "train = pd.read_csv('Train.csv')\n",
    "test = pd.read_csv('Test.csv')\n",
    "target = train['default_status']\n",
    "#Submission = pd.read_csv('SampleSubmission.csv')"
   ]
  },
  {
   "cell_type": "code",
   "execution_count": 3,
   "metadata": {},
   "outputs": [],
   "source": [
    "# writing different functions to ensure modularity\n",
    "#\n",
    "class Analyzer:\n",
    "    def __init__(self):\n",
    "        pass\n",
    "        \n",
    "    def check_null(self, data):\n",
    "        \"\"\"This function returns a fraction of the\n",
    "            null values per feature in the data\n",
    "        ** Args: Data - pandas dataframe\n",
    "        ** Return: decimal value - (sum of null values per feature / sum of data points)\n",
    "        \"\"\"\n",
    "        nan_cols = [col for col in data.columns if data[col].isnull().sum() > 0]\n",
    "        print(f\"Shape: {data.shape}, Number of Columns with NaN: {len(nan_cols)}\")\n",
    "        return data[nan_cols].isnull().sum()/data.shape[0]\n",
    "\n",
    "    def plot_feature_importances(self, model, data, num_features=50):\n",
    "        \"\"\"Returns a plot of the feature importance as scored by the model\n",
    "        ** Args: Data - pandas dataframe\n",
    "                 Model - Algorithm\n",
    "        ** Return: bar plot\n",
    "        \"\"\"\n",
    "        plt.figure(figsize=(15, 30));\n",
    "        feature_importance_df = pd.DataFrame(gbc.feature_importances_, columns=['Importance'])\n",
    "        feature_importance_df['Feature'] = train_data.columns\n",
    "        sns.barplot(x=\"Importance\", y=\"Features\", data=feature_importance_df.sort_values(by=['Importance'], \n",
    "                                                                               ascending = False).head(num_features))\n",
    "        plt.title(model);\n",
    "\n",
    "\n",
    "    def categorical_plot(self, data, hue, cols=None):\n",
    "        \"\"\"Return a plot of categorical features in a data\n",
    "        ** Args: Data - pandas dataframe\n",
    "                 Hue - string\n",
    "                 Categorical Columns - list\n",
    "        ** Return: bar plot\n",
    "        \"\"\"\n",
    "        if cols == None: cols = [cname for cname in data.columns if data[cname].dtype == 'object' and data[cname].nunique() < 20]\n",
    "        for col in cols: \n",
    "            if col in data.columns:\n",
    "                sns.countplot(y=col, hue=hue, data=data)\n",
    "                plt.show()\n",
    "                \n",
    "    def get_score(self, data, target, model=None, prefit=False, scale=False, scale_type='StandardScaler'):\n",
    "        \"\"\"Returns the auc score of a base model\n",
    "        ** Args: model, data, target\n",
    "        ** Return: auc score - float\n",
    "        \"\"\"\n",
    "        from sklearn.metrics import roc_auc_score, accuracy_score, log_loss\n",
    "        from sklearn.linear_model import LogisticRegression\n",
    "        from sklearn.model_selection import train_test_split\n",
    "\n",
    "        x_t, x_v, y_t, y_v = train_test_split(data, target, stratify=target, test_size=0.3, random_state=0)\n",
    "        if scale:\n",
    "            x_t, x_v, y_t, y_v = self.scale(data, target, scale_type)\n",
    "        if model == None:\n",
    "            model = LogisticRegression().fit(x_t, y_t)\n",
    "        if not prefit:\n",
    "            model.fit(x_t, y_t)\n",
    "        train_score = roc_auc_score(y_t, model.predict_proba(x_t)[:,1])\n",
    "        test_score = roc_auc_score(y_v, model.predict_proba(x_v)[:,1])\n",
    "        print(f\"Train Score: {train_score:.4f},    Test Score: {test_score:.4f}\")\n",
    "    \n",
    "    def scale(self, data, target, scale_type='StandardScaler'):\n",
    "        from sklearn.preprocessing import StandardScaler, MinMaxScaler, RobustScaler\n",
    "        from sklearn.model_selection import train_test_split\n",
    "\n",
    "        x_t, x_v, y_t, y_v = train_test_split(data, target, stratify=target, test_size=0.3, random_state=0)\n",
    "        ss = StandardScaler()\n",
    "        mm = MinMaxScaler()\n",
    "        rs = RobustScaler()\n",
    "        \n",
    "        if scale_type == 'StandardScaler':\n",
    "            x_t, x_v = self.fit_scaler(ss, x_t, x_v)\n",
    "        if scale_type == 'RobustScaler':\n",
    "            x_t, x_v = self.fit_scaler(rs, x_t, x_v)\n",
    "        else:\n",
    "            x_t, x_v = self.fit_scaler(mm, x_t, x_v)\n",
    "        return x_t, x_v, y_t, y_v\n",
    "    \n",
    "    def fit_scaler(self, scaler, x_train, x_val):\n",
    "        scaler.fit(x_train)\n",
    "        x_train = scaler.transform(x_train)\n",
    "        x_val = scaler.transform(x_val)\n",
    "        return x_train, x_val"
   ]
  },
  {
   "cell_type": "code",
   "execution_count": 4,
   "metadata": {},
   "outputs": [],
   "source": [
    "tools = Analyzer()"
   ]
  },
  {
   "cell_type": "code",
   "execution_count": 5,
   "metadata": {},
   "outputs": [],
   "source": [
    "train.loc[train['default_status'] == 'yes', 'default_status'] = 1\n",
    "train.loc[train['default_status'] == 'no', 'default_status'] = 0\n",
    "train['default_status'] = train['default_status'].astype(int)"
   ]
  },
  {
   "cell_type": "code",
   "execution_count": 6,
   "metadata": {},
   "outputs": [
    {
     "data": {
      "text/plain": [
       "<AxesSubplot:>"
      ]
     },
     "execution_count": 6,
     "metadata": {},
     "output_type": "execute_result"
    },
    {
     "data": {
      "image/png": "[encoded data removed]",
      "text/plain": [
       "<Figure size 1440x1080 with 2 Axes>"
      ]
     },
     "metadata": {
      "needs_background": "light"
     },
     "output_type": "display_data"
    }
   ],
   "source": [
    "plt.subplots(figsize=(20, 15))\n",
    "sns.heatmap(train.corr())"
   ]
  },
  {
   "cell_type": "code",
   "execution_count": 7,
   "metadata": {},
   "outputs": [],
   "source": [
    "#Creating a column for rows with columns missing\n",
    "train[\"Num_Cols_NaN\"] = train.T.isnull().sum()\n",
    "test[\"Num_Cols_NaN\"] = test.T.isnull().sum()"
   ]
  },
  {
   "cell_type": "code",
   "execution_count": 8,
   "metadata": {},
   "outputs": [
    {
     "data": {
      "text/plain": [
       "((56000, 54), (24000, 53), (80000, 54))"
      ]
     },
     "execution_count": 8,
     "metadata": {},
     "output_type": "execute_result"
    }
   ],
   "source": [
    "# Joining train and test together to avoid repeated preprocessing\n",
    "\n",
    "train['is_train'] = 1\n",
    "test['is_train'] = 0\n",
    "all_data = pd.concat([train, test])\n",
    "\n",
    "train.shape, test.shape, all_data.shape"
   ]
  },
  {
   "cell_type": "code",
   "execution_count": 9,
   "metadata": {},
   "outputs": [
    {
     "name": "stdout",
     "output_type": "stream",
     "text": [
      "Shape: (80000, 54), Number of Columns with NaN: 49\n"
     ]
    },
    {
     "data": {
      "text/plain": [
       "form_field1       0.045488\n",
       "form_field2       0.069413\n",
       "form_field3       0.006262\n",
       "form_field4       0.006262\n",
       "form_field5       0.006262\n",
       "form_field6       0.237050\n",
       "form_field7       0.092425\n",
       "form_field8       0.237050\n",
       "form_field9       0.142600\n",
       "form_field10      0.006275\n",
       "form_field11      0.560238\n",
       "form_field12      0.175975\n",
       "form_field13      0.104400\n",
       "form_field15      0.400838\n",
       "form_field16      0.231375\n",
       "form_field17      0.198075\n",
       "form_field18      0.184638\n",
       "form_field19      0.000050\n",
       "form_field20      0.006275\n",
       "form_field21      0.282012\n",
       "form_field22      0.364050\n",
       "form_field23      0.503100\n",
       "form_field24      0.236275\n",
       "form_field25      0.096325\n",
       "form_field26      0.132625\n",
       "form_field27      0.165112\n",
       "form_field28      0.006275\n",
       "form_field29      0.006275\n",
       "form_field30      0.455213\n",
       "form_field31      0.702725\n",
       "form_field32      0.096325\n",
       "form_field33      0.021888\n",
       "form_field34      0.006275\n",
       "form_field35      0.412675\n",
       "form_field36      0.036225\n",
       "form_field37      0.096325\n",
       "form_field38      0.006275\n",
       "form_field39      0.075500\n",
       "form_field40      0.781963\n",
       "form_field41      0.682225\n",
       "form_field42      0.023762\n",
       "form_field43      0.010225\n",
       "form_field44      0.096812\n",
       "form_field45      0.560688\n",
       "form_field46      0.284863\n",
       "form_field48      0.372638\n",
       "form_field49      0.006262\n",
       "form_field50      0.198162\n",
       "default_status    0.300000\n",
       "dtype: float64"
      ]
     },
     "execution_count": 9,
     "metadata": {},
     "output_type": "execute_result"
    }
   ],
   "source": [
    "tools.check_null(all_data)"
   ]
  },
  {
   "cell_type": "markdown",
   "metadata": {},
   "source": [
    "# Feature Engineering"
   ]
  },
  {
   "cell_type": "code",
   "execution_count": 10,
   "metadata": {},
   "outputs": [],
   "source": [
    "all_data['avg_risk_factors'] = (all_data['form_field1'].fillna(0) + all_data['form_field2'].fillna(0)) / 2\n",
    "all_data['avg_severity'] = (all_data['form_field3'] + all_data['form_field4'] + all_data['form_field5']) / 3\n",
    "all_data['credit_scale'] = (all_data['form_field6'] + all_data['form_field8']) / 2\n",
    "all_data['avg_tenure'] = (all_data['form_field32'] + all_data['form_field33']) / 2"
   ]
  },
  {
   "cell_type": "code",
   "execution_count": 11,
   "metadata": {
    "scrolled": true
   },
   "outputs": [],
   "source": [
    "all_data['def_on_ff1'] = np.NaN\n",
    "for i in range(all_data.shape[0]):\n",
    "    if all_data['form_field1'].iloc[i] <= 3200:\n",
    "        all_data['def_on_ff1'].iloc[i] = 'most default'\n",
    "    elif all_data['form_field1'].iloc[i] > 3200 and all_data['form_field1'].iloc[i] <= 3400:\n",
    "        all_data['def_on_ff1'].iloc[i] = 'more default'\n",
    "    else:\n",
    "        all_data['def_on_ff1'].iloc[i] = 'less default'"
   ]
  },
  {
   "cell_type": "code",
   "execution_count": 12,
   "metadata": {},
   "outputs": [],
   "source": [
    "# generating columns \n",
    "all_data['def_on_avg'] = np.NaN\n",
    "for i in range(all_data.shape[0]):\n",
    "    if all_data['avg_tenure'].iloc[i] <= 100 or all_data['avg_severity'].iloc[i] > 1 and all_data['def_on_ff1'].iloc[i] != 'less_default':\n",
    "        all_data['def_on_avg'].iloc[i] = 'most often default'\n",
    "    else:\n",
    "        all_data['def_on_avg'].iloc[i] = 'less often default'"
   ]
  },
  {
   "cell_type": "code",
   "execution_count": 13,
   "metadata": {},
   "outputs": [],
   "source": [
    "all_data['form_field32+33'] = all_data['form_field33'] + all_data['form_field32']\n",
    "all_data['form_field6+8'] = all_data['form_field6'] + all_data['form_field8']\n",
    "all_data['form_field17+18'] = all_data['form_field17'] + all_data['form_field18']\n",
    "all_data['form_field19+20'] = all_data['form_field19'] + all_data['form_field20']\n",
    "all_data['form_field4+46'] = all_data['form_field4'] + all_data['form_field46']"
   ]
  },
  {
   "cell_type": "code",
   "execution_count": 14,
   "metadata": {},
   "outputs": [],
   "source": [
    "all_data.loc[all_data['avg_tenure'] > 150, 'def_on_ten'] = 'active'\n",
    "all_data.loc[all_data['avg_tenure'] <= 150, 'def_on_ten'] = 'less active'"
   ]
  },
  {
   "cell_type": "code",
   "execution_count": 15,
   "metadata": {},
   "outputs": [],
   "source": [
    "all_data['avg_credit_feats'] = np.NaN\n",
    "pref = np.arange(6,16,1)\n",
    "feats = ['form_field'+str(i) for i in pref]\n",
    "for j in range(all_data.shape[0]):\n",
    "    all_data['avg_credit_feats'].iloc[j] = all_data[feats].iloc[j].sum(axis=0) / len(feats)"
   ]
  },
  {
   "cell_type": "code",
   "execution_count": 16,
   "metadata": {},
   "outputs": [],
   "source": [
    "all_data['avg_card_feats'] = np.NaN\n",
    "pref = np.arange(16,28,1)\n",
    "feats = ['form_field'+str(i) for i in pref]\n",
    "for j in range(all_data.shape[0]):\n",
    "    all_data['avg_card_feats'].iloc[j] = all_data[feats].iloc[j].sum(axis=0) / len(feats)"
   ]
  },
  {
   "cell_type": "code",
   "execution_count": 17,
   "metadata": {},
   "outputs": [],
   "source": [
    "all_data['avg_time_feats'] = np.NaN\n",
    "pref = np.arange(28,40,1)\n",
    "feats = ['form_field'+str(i) for i in pref]\n",
    "for j in range(all_data.shape[0]):\n",
    "    all_data['avg_time_feats'].iloc[j] = all_data[feats].iloc[j].sum(axis=0) / len(feats)"
   ]
  },
  {
   "cell_type": "code",
   "execution_count": 18,
   "metadata": {},
   "outputs": [],
   "source": [
    "all_data['avg_other_feats'] = np.NaN\n",
    "pref = np.arange(42,48,1)\n",
    "feats = ['form_field'+str(i) for i in pref]\n",
    "feats.remove('form_field47')\n",
    "feats.append('form_field50')\n",
    "for j in range(all_data.shape[0]):\n",
    "    all_data['avg_other_feats'].iloc[j] = all_data[feats].iloc[j].sum(axis=0) / len(feats)"
   ]
  },
  {
   "cell_type": "code",
   "execution_count": 19,
   "metadata": {},
   "outputs": [
    {
     "data": {
      "image/png": "[encoded data removed]",
      "text/plain": [
       "<Figure size 432x288 with 1 Axes>"
      ]
     },
     "metadata": {
      "needs_background": "light"
     },
     "output_type": "display_data"
    },
    {
     "data": {
      "image/png": "[encoded data removed]",
      "text/plain": [
       "<Figure size 432x288 with 1 Axes>"
      ]
     },
     "metadata": {
      "needs_background": "light"
     },
     "output_type": "display_data"
    }
   ],
   "source": [
    "tools.categorical_plot(all_data[all_data['is_train']==1], 'default_status')"
   ]
  },
  {
   "cell_type": "code",
   "execution_count": 20,
   "metadata": {},
   "outputs": [],
   "source": [
    "#Saving data to avoid repeatedly engineeering each time I restart runtime\n",
    "\n",
    "all_data.to_csv('all_data44.csv', index=False)"
   ]
  },
  {
   "cell_type": "code",
   "execution_count": 21,
   "metadata": {},
   "outputs": [],
   "source": [
    "all_data=pd.read_csv('all_data44.csv')"
   ]
  },
  {
   "cell_type": "code",
   "execution_count": 22,
   "metadata": {},
   "outputs": [],
   "source": [
    "# Get the categorical cols\n",
    "cat_cols = [col for col in all_data.drop(['Applicant_ID'], axis=1)\n",
    "            if all_data[col].dtype == 'object']\n",
    "cat_cols.remove('form_field47')\n",
    "cols_generated = cat_cols"
   ]
  },
  {
   "cell_type": "code",
   "execution_count": 23,
   "metadata": {},
   "outputs": [
    {
     "data": {
      "text/plain": [
       "(80000, 82)"
      ]
     },
     "execution_count": 23,
     "metadata": {},
     "output_type": "execute_result"
    }
   ],
   "source": [
    "#****** Encoding the categorical cols *********\n",
    "\n",
    "## One Hot encoding\n",
    "one_hot_cols = [cname for cname in all_data.columns\n",
    "                if all_data[cname].nunique() < 10 and all_data[cname].dtype == 'object']\n",
    "for i in range(len(one_hot_cols)):\n",
    "    all_data = pd.concat( [all_data, pd.get_dummies(all_data[one_hot_cols[i]], prefix='_')], axis=1 )\n",
    "\n",
    "# Label encoding\n",
    "all_data['form_field47'] = all_data['form_field47'].factorize()[0]\n",
    "for i in range(len(cols_generated)):\n",
    "    new_col = cols_generated[i] + '_label'\n",
    "    all_data[new_col] = all_data[cols_generated[i]].factorize()[0]\n",
    "# # cols_generated.append('form_field47')\n",
    "# # all_data = all_data.drop([cols_generated], axis=1)\n",
    "\n",
    "# Count encoding\n",
    "for i in range(len(cols_generated)):\n",
    "    all_data[cols_generated[i]] = all_data[cols_generated[i]].map(all_data[cols_generated[i]].value_counts())\n",
    "    \n",
    "all_data.shape"
   ]
  },
  {
   "cell_type": "code",
   "execution_count": 24,
   "metadata": {},
   "outputs": [
    {
     "name": "stdout",
     "output_type": "stream",
     "text": [
      "filling null with:  mean .......\n",
      "Done filling null!\n",
      "Getting score ......\n",
      "Train Score: 0.8317,    Test Score: 0.8249\n",
      "filling null with:  median .......\n",
      "Done filling null!\n",
      "Getting score ......\n",
      "Train Score: 0.8316,    Test Score: 0.8249\n",
      "filling null with:  std .......\n",
      "Done filling null!\n",
      "Getting score ......\n",
      "Train Score: 0.8298,    Test Score: 0.8233\n",
      "filling null with:  0 .......\n",
      "Done filling null!\n",
      "Getting score ......\n",
      "Train Score: 0.8295,    Test Score: 0.8232\n",
      "filling null with:  -999 .......\n",
      "Done filling null!\n",
      "Getting score ......\n",
      "Train Score: 0.8090,    Test Score: 0.8019\n"
     ]
    }
   ],
   "source": [
    "# Handling null values\n",
    "\n",
    "fill_w = ['mean', 'median', 'std', 0, -999]\n",
    "for i in range(len(fill_w)):\n",
    "    target = train['default_status']\n",
    "    train_t = all_data.loc[all_data['is_train']==1].drop(['Applicant_ID', 'default_status',\n",
    "                                                         'form_field40', 'form_field41', \n",
    "                                                          'form_field31', 'is_train',\n",
    "                                                          'form_field48', 'form_field49'], axis=1)\n",
    "    print('filling null with: ', fill_w[i], '.......')\n",
    "    cols = train_t.columns\n",
    "    for j in range(len(cols)):\n",
    "        if fill_w[i] == 'mean':\n",
    "            train_t[cols[j]] = train_t[cols[j]].fillna(train_t[cols[j]].mean())\n",
    "        elif fill_w[i] == 'median':\n",
    "            train_t[cols[j]] = train_t[cols[j]].fillna(train_t[cols[j]].median())\n",
    "        elif fill_w[i] == 'std':\n",
    "            train_t[cols[j]] = train_t[cols[j]].fillna(train_t[cols[j]].std())\n",
    "        else:\n",
    "            train_t[cols[j]] = train_t[cols[j]].fillna(fill_w[i])\n",
    "    print('Done filling null!')\n",
    "    print('Getting score ......')\n",
    "    tools.get_score(train_t, target, scale=True, scale_type='MinMaxScaler')"
   ]
  },
  {
   "cell_type": "code",
   "execution_count": 25,
   "metadata": {},
   "outputs": [
    {
     "name": "stdout",
     "output_type": "stream",
     "text": [
      "filling null with:  mean .......\n",
      "Done filling null!\n",
      "Getting score ......\n",
      "Train Score: 0.9182,    Test Score: 0.8335\n",
      "filling null with:  median .......\n",
      "Done filling null!\n",
      "Getting score ......\n",
      "Train Score: 0.9171,    Test Score: 0.8338\n",
      "filling null with:  std .......\n",
      "Done filling null!\n",
      "Getting score ......\n",
      "Train Score: 0.9183,    Test Score: 0.8343\n",
      "filling null with:  0 .......\n",
      "Done filling null!\n",
      "Getting score ......\n",
      "Train Score: 0.9166,    Test Score: 0.8340\n",
      "filling null with:  -999 .......\n",
      "Done filling null!\n",
      "Getting score ......\n",
      "Train Score: 0.9169,    Test Score: 0.8348\n"
     ]
    }
   ],
   "source": [
    "# Handling null values\n",
    "catt = CatBoostClassifier(verbose=False)\n",
    "\n",
    "fill_w = ['mean', 'median', 'std', 0, -999]\n",
    "for i in range(len(fill_w)):\n",
    "    target = train['default_status']\n",
    "    train_t = all_data.loc[all_data['is_train']==1].drop(['Applicant_ID', 'default_status',\n",
    "                                                         'form_field40', 'form_field41', \n",
    "                                                          'form_field31', 'is_train',\n",
    "                                                          'form_field48', 'form_field49'], axis=1)\n",
    "    print('filling null with: ', fill_w[i], '.......')\n",
    "    cols = train_t.columns\n",
    "    for j in range(len(cols)):\n",
    "        if fill_w[i] == 'mean':\n",
    "            train_t[cols[j]] = train_t[cols[j]].fillna(train_t[cols[j]].mean())\n",
    "        elif fill_w[i] == 'median':\n",
    "            train_t[cols[j]] = train_t[cols[j]].fillna(train_t[cols[j]].median())\n",
    "        elif fill_w[i] == 'std':\n",
    "            train_t[cols[j]] = train_t[cols[j]].fillna(train_t[cols[j]].std())\n",
    "        else:\n",
    "            train_t[cols[j]] = train_t[cols[j]].fillna(fill_w[i])\n",
    "    print('Done filling null!')\n",
    "    print('Getting score ......')\n",
    "    tools.get_score(train_t, target, catt)"
   ]
  },
  {
   "cell_type": "code",
   "execution_count": 26,
   "metadata": {},
   "outputs": [],
   "source": [
    "#filling null\n",
    "all_data = all_data.fillna(-999)"
   ]
  },
  {
   "cell_type": "code",
   "execution_count": 27,
   "metadata": {},
   "outputs": [],
   "source": [
    "#Splitting Data back to train and test\n",
    "target = all_data.loc[all_data['is_train']==1]['default_status']\n",
    "train_data = all_data.loc[all_data['is_train']==1].drop(['Applicant_ID', 'default_status', #'form_field6', 'form_field14',\n",
    "                                                         'form_field40', 'form_field41', #'form_field47',\n",
    "                                                          'form_field31', 'is_train', #'form_field14',\n",
    "                                                          'form_field48', 'form_field49'], axis=1)\n",
    "test_data = all_data.loc[all_data['is_train']==0].drop(['Applicant_ID', 'default_status', #'form_field6', 'form_field14',\n",
    "                                                         'form_field40', 'form_field41', \n",
    "                                                          'form_field31', 'is_train', #'form_field14',\n",
    "                                                          'form_field48', 'form_field49'], axis=1)"
   ]
  },
  {
   "cell_type": "code",
   "execution_count": 31,
   "metadata": {
    "scrolled": true
   },
   "outputs": [
    {
     "name": "stdout",
     "output_type": "stream",
     "text": [
      "Fold number:  1\n",
      "0:\ttest: 0.8120838\tbest: 0.8120838 (0)\ttotal: 98.2ms\tremaining: 8m 10s\n",
      "1000:\ttest: 0.8506466\tbest: 0.8506466 (1000)\ttotal: 1m 22s\tremaining: 5m 30s\n",
      "2000:\ttest: 0.8537891\tbest: 0.8537891 (2000)\ttotal: 2m 44s\tremaining: 4m 7s\n",
      "3000:\ttest: 0.8552109\tbest: 0.8552137 (2999)\ttotal: 4m 6s\tremaining: 2m 44s\n",
      "Stopped by overfitting detector  (300 iterations wait)\n",
      "\n",
      "bestTest = 0.8553568592\n",
      "bestIteration = 3484\n",
      "\n",
      "Shrink model to first 3485 iterations.\n",
      "auc score on train: 0.8929270754981812\n",
      "auc score on test 0.855356859198211\n",
      "Fold number:  2\n",
      "0:\ttest: 0.7945443\tbest: 0.7945443 (0)\ttotal: 109ms\tremaining: 9m 4s\n",
      "1000:\ttest: 0.8360551\tbest: 0.8360551 (1000)\ttotal: 1m 22s\tremaining: 5m 27s\n",
      "2000:\ttest: 0.8389006\tbest: 0.8389062 (1998)\ttotal: 2m 43s\tremaining: 4m 5s\n",
      "3000:\ttest: 0.8401136\tbest: 0.8401286 (2996)\ttotal: 4m 5s\tremaining: 2m 43s\n",
      "4000:\ttest: 0.8408007\tbest: 0.8408290 (3980)\ttotal: 5m 27s\tremaining: 1m 21s\n",
      "Stopped by overfitting detector  (300 iterations wait)\n",
      "\n",
      "bestTest = 0.8409559295\n",
      "bestIteration = 4461\n",
      "\n",
      "Shrink model to first 4462 iterations.\n",
      "auc score on train: 0.9066247227880297\n",
      "auc score on test 0.8409559294917401\n",
      "Fold number:  3\n",
      "0:\ttest: 0.7832868\tbest: 0.7832868 (0)\ttotal: 101ms\tremaining: 8m 25s\n",
      "1000:\ttest: 0.8177017\tbest: 0.8177017 (1000)\ttotal: 1m 23s\tremaining: 5m 35s\n",
      "2000:\ttest: 0.8211576\tbest: 0.8211629 (1998)\ttotal: 2m 50s\tremaining: 4m 15s\n",
      "3000:\ttest: 0.8223577\tbest: 0.8224182 (2840)\ttotal: 4m 14s\tremaining: 2m 49s\n",
      "Stopped by overfitting detector  (300 iterations wait)\n",
      "\n",
      "bestTest = 0.8224181992\n",
      "bestIteration = 2840\n",
      "\n",
      "Shrink model to first 2841 iterations.\n",
      "auc score on train: 0.8862304865116061\n",
      "auc score on test 0.8224181992318331\n",
      "Fold number:  4\n",
      "0:\ttest: 0.7969758\tbest: 0.7969758 (0)\ttotal: 95.3ms\tremaining: 7m 56s\n",
      "1000:\ttest: 0.8368114\tbest: 0.8368114 (1000)\ttotal: 1m 24s\tremaining: 5m 38s\n",
      "2000:\ttest: 0.8386641\tbest: 0.8386641 (2000)\ttotal: 2m 47s\tremaining: 4m 11s\n",
      "3000:\ttest: 0.8390891\tbest: 0.8390939 (2994)\ttotal: 4m 11s\tremaining: 2m 47s\n",
      "4000:\ttest: 0.8391677\tbest: 0.8392565 (3731)\ttotal: 5m 36s\tremaining: 1m 23s\n",
      "Stopped by overfitting detector  (300 iterations wait)\n",
      "\n",
      "bestTest = 0.8392565384\n",
      "bestIteration = 3731\n",
      "\n",
      "Shrink model to first 3732 iterations.\n",
      "auc score on train: 0.8980900430732703\n",
      "auc score on test 0.8392565383784191\n",
      "Fold number:  5\n",
      "0:\ttest: 0.7960622\tbest: 0.7960622 (0)\ttotal: 115ms\tremaining: 9m 36s\n",
      "1000:\ttest: 0.8324107\tbest: 0.8324107 (1000)\ttotal: 1m 26s\tremaining: 5m 44s\n",
      "2000:\ttest: 0.8363807\tbest: 0.8363812 (1999)\ttotal: 2m 50s\tremaining: 4m 14s\n",
      "3000:\ttest: 0.8383345\tbest: 0.8383579 (2977)\ttotal: 4m 11s\tremaining: 2m 47s\n",
      "4000:\ttest: 0.8389906\tbest: 0.8390932 (3806)\ttotal: 5m 34s\tremaining: 1m 23s\n",
      "Stopped by overfitting detector  (300 iterations wait)\n",
      "\n",
      "bestTest = 0.839093205\n",
      "bestIteration = 3806\n",
      "\n",
      "Shrink model to first 3807 iterations.\n",
      "auc score on train: 0.8983491533727082\n",
      "auc score on test 0.8390932050399116\n",
      "Fold number:  6\n",
      "0:\ttest: 0.7970974\tbest: 0.7970974 (0)\ttotal: 103ms\tremaining: 8m 32s\n",
      "1000:\ttest: 0.8370347\tbest: 0.8370347 (1000)\ttotal: 1m 22s\tremaining: 5m 29s\n",
      "2000:\ttest: 0.8401200\tbest: 0.8401214 (1990)\ttotal: 2m 43s\tremaining: 4m 5s\n",
      "3000:\ttest: 0.8415337\tbest: 0.8415337 (3000)\ttotal: 4m 5s\tremaining: 2m 43s\n",
      "Stopped by overfitting detector  (300 iterations wait)\n",
      "\n",
      "bestTest = 0.8417088217\n",
      "bestIteration = 3437\n",
      "\n",
      "Shrink model to first 3438 iterations.\n",
      "auc score on train: 0.8938376016696182\n",
      "auc score on test 0.841708821655436\n",
      "Fold number:  7\n",
      "0:\ttest: 0.8032085\tbest: 0.8032085 (0)\ttotal: 103ms\tremaining: 8m 32s\n",
      "1000:\ttest: 0.8387010\tbest: 0.8387010 (1000)\ttotal: 1m 22s\tremaining: 5m 31s\n",
      "2000:\ttest: 0.8407359\tbest: 0.8407481 (1990)\ttotal: 2m 45s\tremaining: 4m 7s\n",
      "Stopped by overfitting detector  (300 iterations wait)\n",
      "\n",
      "bestTest = 0.8416055603\n",
      "bestIteration = 2614\n",
      "\n",
      "Shrink model to first 2615 iterations.\n",
      "auc score on train: 0.8808821247505503\n",
      "auc score on test 0.8416055603211686\n",
      "Fold number:  8\n",
      "0:\ttest: 0.8021603\tbest: 0.8021603 (0)\ttotal: 93.6ms\tremaining: 7m 47s\n",
      "1000:\ttest: 0.8479917\tbest: 0.8479917 (1000)\ttotal: 1m 23s\tremaining: 5m 34s\n",
      "2000:\ttest: 0.8516529\tbest: 0.8516626 (1997)\ttotal: 2m 46s\tremaining: 4m 9s\n",
      "3000:\ttest: 0.8537382\tbest: 0.8537428 (2999)\ttotal: 4m 8s\tremaining: 2m 45s\n",
      "Stopped by overfitting detector  (300 iterations wait)\n",
      "\n",
      "bestTest = 0.8541375903\n",
      "bestIteration = 3545\n",
      "\n",
      "Shrink model to first 3546 iterations.\n",
      "auc score on train: 0.8946816793873905\n",
      "auc score on test 0.8541375902976409\n",
      "Fold number:  9\n",
      "0:\ttest: 0.7958968\tbest: 0.7958968 (0)\ttotal: 98.3ms\tremaining: 8m 11s\n",
      "1000:\ttest: 0.8296572\tbest: 0.8296572 (1000)\ttotal: 1m 22s\tremaining: 5m 29s\n",
      "2000:\ttest: 0.8331257\tbest: 0.8331257 (2000)\ttotal: 2m 43s\tremaining: 4m 5s\n",
      "3000:\ttest: 0.8345114\tbest: 0.8345141 (2998)\ttotal: 4m 3s\tremaining: 2m 42s\n",
      "4000:\ttest: 0.8351382\tbest: 0.8351972 (3928)\ttotal: 5m 25s\tremaining: 1m 21s\n",
      "Stopped by overfitting detector  (300 iterations wait)\n",
      "\n",
      "bestTest = 0.8352173211\n",
      "bestIteration = 4128\n",
      "\n",
      "Shrink model to first 4129 iterations.\n",
      "auc score on train: 0.9033117580161268\n",
      "auc score on test 0.8352173211493004\n",
      "Fold number:  10\n",
      "0:\ttest: 0.8028995\tbest: 0.8028995 (0)\ttotal: 110ms\tremaining: 9m 11s\n",
      "1000:\ttest: 0.8406602\tbest: 0.8406602 (1000)\ttotal: 1m 22s\tremaining: 5m 30s\n",
      "2000:\ttest: 0.8433345\tbest: 0.8433393 (1999)\ttotal: 2m 43s\tremaining: 4m 4s\n",
      "3000:\ttest: 0.8441016\tbest: 0.8441452 (2982)\ttotal: 4m 4s\tremaining: 2m 42s\n",
      "Stopped by overfitting detector  (300 iterations wait)\n",
      "\n",
      "bestTest = 0.8441996781\n",
      "bestIteration = 3362\n",
      "\n",
      "Shrink model to first 3363 iterations.\n",
      "auc score on train: 0.8927986278874265\n",
      "auc score on test 0.8441996781142515\n",
      "Mean auc score on test:  0.8413949702877911\n"
     ]
    },
    {
     "data": {
      "text/html": [
       "<div>\n",
       "<style scoped>\n",
       "    .dataframe tbody tr th:only-of-type {\n",
       "        vertical-align: middle;\n",
       "    }\n",
       "\n",
       "    .dataframe tbody tr th {\n",
       "        vertical-align: top;\n",
       "    }\n",
       "\n",
       "    .dataframe thead th {\n",
       "        text-align: right;\n",
       "    }\n",
       "</style>\n",
       "<table border=\"1\" class=\"dataframe\">\n",
       "  <thead>\n",
       "    <tr style=\"text-align: right;\">\n",
       "      <th></th>\n",
       "      <th>Applicant_ID</th>\n",
       "      <th>default_status</th>\n",
       "    </tr>\n",
       "  </thead>\n",
       "  <tbody>\n",
       "    <tr>\n",
       "      <th>0</th>\n",
       "      <td>Apcnt_1000032</td>\n",
       "      <td>0.322457</td>\n",
       "    </tr>\n",
       "    <tr>\n",
       "      <th>1</th>\n",
       "      <td>Apcnt_1000048</td>\n",
       "      <td>0.435374</td>\n",
       "    </tr>\n",
       "    <tr>\n",
       "      <th>2</th>\n",
       "      <td>Apcnt_1000052</td>\n",
       "      <td>0.391897</td>\n",
       "    </tr>\n",
       "    <tr>\n",
       "      <th>3</th>\n",
       "      <td>Apcnt_1000076</td>\n",
       "      <td>0.742768</td>\n",
       "    </tr>\n",
       "    <tr>\n",
       "      <th>4</th>\n",
       "      <td>Apcnt_1000080</td>\n",
       "      <td>0.168884</td>\n",
       "    </tr>\n",
       "  </tbody>\n",
       "</table>\n",
       "</div>"
      ],
      "text/plain": [
       "    Applicant_ID  default_status\n",
       "0  Apcnt_1000032        0.322457\n",
       "1  Apcnt_1000048        0.435374\n",
       "2  Apcnt_1000052        0.391897\n",
       "3  Apcnt_1000076        0.742768\n",
       "4  Apcnt_1000080        0.168884"
      ]
     },
     "execution_count": 31,
     "metadata": {},
     "output_type": "execute_result"
    }
   ],
   "source": [
    "#Training Catboost model using Stratified KFold\n",
    "#and making predictions on test data\n",
    "from sklearn.model_selection import StratifiedKFold\n",
    "auc_list = list()\n",
    "predictions_df = pd.DataFrame()\n",
    "predictions_df['Applicant_ID'] = test['Applicant_ID']\n",
    "predictions_df['default_status'] = np.zeros(len(test))\n",
    "\n",
    "fold = StratifiedKFold(n_splits=10, shuffle= True, random_state= 42)\n",
    "i = 1\n",
    "\n",
    "for train_index, test_index in fold.split(train_data, target):\n",
    "    print('Fold number: ', i)\n",
    "\n",
    "    x_data, x_val = train_data.iloc[train_index], train_data.iloc[test_index]\n",
    "    y_data, y_val = target.iloc[train_index], target.iloc[test_index]\n",
    "    x_test = test_data\n",
    "  \n",
    "    cat = CatBoostClassifier(learning_rate=0.005, eval_metric='AUC',\n",
    "                               use_best_model=True, random_state=0, n_estimators=5000, max_depth=8)\n",
    "    cat.fit(x_data, y_data, eval_set=[(x_val, y_val)], early_stopping_rounds=300, verbose=1000)\n",
    "        \n",
    "    train_pred = cat.predict_proba(x_data)[:,1]\n",
    "    test_pred = cat.predict_proba(x_val)[:,1]\n",
    "       \n",
    "    print('auc score on train:', roc_auc_score(y_data, train_pred))\n",
    "    print('auc score on test', roc_auc_score(y_val, test_pred))\n",
    "    auc_list.append(roc_auc_score(y_val, test_pred))\n",
    "    current_pred = cat.predict_proba(x_test)[:,1]\n",
    "        \n",
    "    predictions_df['default_status']+=current_pred/fold.n_splits\n",
    "    i += 1\n",
    "        \n",
    "print('Mean auc score on test: ', np.mean(auc_list))  \n",
    "\n",
    "predictions_df.to_csv('submission.csv', index=False)\n",
    "predictions_df.head()"
   ]
  },
  {
   "cell_type": "markdown",
   "metadata": {},
   "source": [
    "# Best Score on LB=0.84403xxx"
   ]
  }
 ],
 "metadata": {
  "kernelspec": {
   "display_name": "Python 3",
   "language": "python",
   "name": "python3"
  },
  "language_info": {
   "codemirror_mode": {
    "name": "ipython",
    "version": 3
   },
   "file_extension": ".py",
   "mimetype": "text/x-python",
   "name": "python",
   "nbconvert_exporter": "python",
   "pygments_lexer": "ipython3",
   "version": "3.7.6"
  }
 },
 "nbformat": 4,
 "nbformat_minor": 4
}
