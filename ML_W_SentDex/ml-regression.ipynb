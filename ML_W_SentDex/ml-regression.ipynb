{
 "cells": [
  {
   "cell_type": "markdown",
   "metadata": {},
   "source": [
    "# Day 2"
   ]
  },
  {
   "cell_type": "code",
   "execution_count": 27,
   "metadata": {},
   "outputs": [],
   "source": [
    "import numpy as np\n",
    "import pandas as pd\n",
    "import datetime\n",
    "import matplotlib.pyplot as plt\n",
    "from matplotlib import style\n",
    "%matplotlib inline"
   ]
  },
  {
   "cell_type": "code",
   "execution_count": 86,
   "metadata": {},
   "outputs": [
    {
     "name": "stdout",
     "output_type": "stream",
     "text": [
      "              Open    High     Low    Close      Volume  Ex-Dividend  \\\n",
      "Date                                                                   \n",
      "2004-08-19  100.01  104.06   95.96  100.335  44659000.0          0.0   \n",
      "2004-08-20  101.01  109.08  100.50  108.310  22834300.0          0.0   \n",
      "2004-08-23  110.76  113.48  109.05  109.400  18256100.0          0.0   \n",
      "2004-08-24  111.24  111.60  103.57  104.870  15247300.0          0.0   \n",
      "2004-08-25  104.76  108.00  103.88  106.000   9188600.0          0.0   \n",
      "\n",
      "            Split Ratio  Adj. Open  Adj. High   Adj. Low  Adj. Close  \\\n",
      "Date                                                                   \n",
      "2004-08-19          1.0  50.159839  52.191109  48.128568   50.322842   \n",
      "2004-08-20          1.0  50.661387  54.708881  50.405597   54.322689   \n",
      "2004-08-23          1.0  55.551482  56.915693  54.693835   54.869377   \n",
      "2004-08-24          1.0  55.792225  55.972783  51.945350   52.597363   \n",
      "2004-08-25          1.0  52.542193  54.167209  52.100830   53.164113   \n",
      "\n",
      "            Adj. Volume  \n",
      "Date                     \n",
      "2004-08-19   44659000.0  \n",
      "2004-08-20   22834300.0  \n",
      "2004-08-23   18256100.0  \n",
      "2004-08-24   15247300.0  \n",
      "2004-08-25    9188600.0  \n"
     ]
    }
   ],
   "source": [
    "import quandl\n",
    "quandl.ApiConfig.api_key = 'NqQjctmu1yo-ma6a_T3b'\n",
    "df = quandl.get('WIKI/GOOGL')\n",
    "print(df.head())"
   ]
  },
  {
   "cell_type": "code",
   "execution_count": 87,
   "metadata": {},
   "outputs": [
    {
     "data": {
      "text/plain": [
       "(3424, 5)"
      ]
     },
     "execution_count": 87,
     "metadata": {},
     "output_type": "execute_result"
    }
   ],
   "source": [
    "df = df[['Adj. Open','Adj. High','Adj. Low','Adj. Close','Adj. Volume']]\n",
    "df.shape"
   ]
  },
  {
   "cell_type": "code",
   "execution_count": 88,
   "metadata": {},
   "outputs": [],
   "source": [
    "#defining a percentage volitility column\n",
    "df['HL_PCT'] = (df['Adj. High'] - df['Adj. Close']) / df['Adj. Close'] *100.0"
   ]
  },
  {
   "cell_type": "code",
   "execution_count": 89,
   "metadata": {},
   "outputs": [],
   "source": [
    "#defining a percentage change column\n",
    "df['PCT_change'] = (df['Adj. Close'] - df['Adj. Open']) / df['Adj. Open'] *100.0"
   ]
  },
  {
   "cell_type": "code",
   "execution_count": 90,
   "metadata": {},
   "outputs": [],
   "source": [
    "df = df[['Adj. Close','HL_PCT','PCT_change','Adj. Volume']]"
   ]
  },
  {
   "cell_type": "code",
   "execution_count": 91,
   "metadata": {},
   "outputs": [
    {
     "data": {
      "text/html": [
       "<div>\n",
       "<style scoped>\n",
       "    .dataframe tbody tr th:only-of-type {\n",
       "        vertical-align: middle;\n",
       "    }\n",
       "\n",
       "    .dataframe tbody tr th {\n",
       "        vertical-align: top;\n",
       "    }\n",
       "\n",
       "    .dataframe thead th {\n",
       "        text-align: right;\n",
       "    }\n",
       "</style>\n",
       "<table border=\"1\" class=\"dataframe\">\n",
       "  <thead>\n",
       "    <tr style=\"text-align: right;\">\n",
       "      <th></th>\n",
       "      <th>Adj. Close</th>\n",
       "      <th>HL_PCT</th>\n",
       "      <th>PCT_change</th>\n",
       "      <th>Adj. Volume</th>\n",
       "    </tr>\n",
       "    <tr>\n",
       "      <th>Date</th>\n",
       "      <th></th>\n",
       "      <th></th>\n",
       "      <th></th>\n",
       "      <th></th>\n",
       "    </tr>\n",
       "  </thead>\n",
       "  <tbody>\n",
       "    <tr>\n",
       "      <th>2004-08-19</th>\n",
       "      <td>50.322842</td>\n",
       "      <td>3.712563</td>\n",
       "      <td>0.324968</td>\n",
       "      <td>44659000.0</td>\n",
       "    </tr>\n",
       "    <tr>\n",
       "      <th>2004-08-20</th>\n",
       "      <td>54.322689</td>\n",
       "      <td>0.710922</td>\n",
       "      <td>7.227007</td>\n",
       "      <td>22834300.0</td>\n",
       "    </tr>\n",
       "    <tr>\n",
       "      <th>2004-08-23</th>\n",
       "      <td>54.869377</td>\n",
       "      <td>3.729433</td>\n",
       "      <td>-1.227880</td>\n",
       "      <td>18256100.0</td>\n",
       "    </tr>\n",
       "    <tr>\n",
       "      <th>2004-08-24</th>\n",
       "      <td>52.597363</td>\n",
       "      <td>6.417469</td>\n",
       "      <td>-5.726357</td>\n",
       "      <td>15247300.0</td>\n",
       "    </tr>\n",
       "    <tr>\n",
       "      <th>2004-08-25</th>\n",
       "      <td>53.164113</td>\n",
       "      <td>1.886792</td>\n",
       "      <td>1.183658</td>\n",
       "      <td>9188600.0</td>\n",
       "    </tr>\n",
       "  </tbody>\n",
       "</table>\n",
       "</div>"
      ],
      "text/plain": [
       "            Adj. Close    HL_PCT  PCT_change  Adj. Volume\n",
       "Date                                                     \n",
       "2004-08-19   50.322842  3.712563    0.324968   44659000.0\n",
       "2004-08-20   54.322689  0.710922    7.227007   22834300.0\n",
       "2004-08-23   54.869377  3.729433   -1.227880   18256100.0\n",
       "2004-08-24   52.597363  6.417469   -5.726357   15247300.0\n",
       "2004-08-25   53.164113  1.886792    1.183658    9188600.0"
      ]
     },
     "execution_count": 91,
     "metadata": {},
     "output_type": "execute_result"
    }
   ],
   "source": [
    "df.head()"
   ]
  },
  {
   "cell_type": "markdown",
   "metadata": {},
   "source": [
    "# Day 3"
   ]
  },
  {
   "cell_type": "code",
   "execution_count": 92,
   "metadata": {},
   "outputs": [],
   "source": [
    "# Defining the label column\n",
    "forecast_col = 'Adj. Close'\n",
    "df.fillna(-99999, inplace=True)"
   ]
  },
  {
   "cell_type": "code",
   "execution_count": 93,
   "metadata": {},
   "outputs": [],
   "source": [
    "import math\n",
    "\n",
    "forecast_out = int(math.ceil(0.1*len(df)))"
   ]
  },
  {
   "cell_type": "code",
   "execution_count": 94,
   "metadata": {},
   "outputs": [
    {
     "data": {
      "text/html": [
       "<div>\n",
       "<style scoped>\n",
       "    .dataframe tbody tr th:only-of-type {\n",
       "        vertical-align: middle;\n",
       "    }\n",
       "\n",
       "    .dataframe tbody tr th {\n",
       "        vertical-align: top;\n",
       "    }\n",
       "\n",
       "    .dataframe thead th {\n",
       "        text-align: right;\n",
       "    }\n",
       "</style>\n",
       "<table border=\"1\" class=\"dataframe\">\n",
       "  <thead>\n",
       "    <tr style=\"text-align: right;\">\n",
       "      <th></th>\n",
       "      <th>Adj. Close</th>\n",
       "      <th>HL_PCT</th>\n",
       "      <th>PCT_change</th>\n",
       "      <th>Adj. Volume</th>\n",
       "      <th>label</th>\n",
       "    </tr>\n",
       "    <tr>\n",
       "      <th>Date</th>\n",
       "      <th></th>\n",
       "      <th></th>\n",
       "      <th></th>\n",
       "      <th></th>\n",
       "      <th></th>\n",
       "    </tr>\n",
       "  </thead>\n",
       "  <tbody>\n",
       "    <tr>\n",
       "      <th>2004-08-19</th>\n",
       "      <td>50.322842</td>\n",
       "      <td>3.712563</td>\n",
       "      <td>0.324968</td>\n",
       "      <td>44659000.0</td>\n",
       "      <td>214.005615</td>\n",
       "    </tr>\n",
       "    <tr>\n",
       "      <th>2004-08-20</th>\n",
       "      <td>54.322689</td>\n",
       "      <td>0.710922</td>\n",
       "      <td>7.227007</td>\n",
       "      <td>22834300.0</td>\n",
       "      <td>210.725489</td>\n",
       "    </tr>\n",
       "    <tr>\n",
       "      <th>2004-08-23</th>\n",
       "      <td>54.869377</td>\n",
       "      <td>3.729433</td>\n",
       "      <td>-1.227880</td>\n",
       "      <td>18256100.0</td>\n",
       "      <td>208.072299</td>\n",
       "    </tr>\n",
       "    <tr>\n",
       "      <th>2004-08-24</th>\n",
       "      <td>52.597363</td>\n",
       "      <td>6.417469</td>\n",
       "      <td>-5.726357</td>\n",
       "      <td>15247300.0</td>\n",
       "      <td>218.288837</td>\n",
       "    </tr>\n",
       "    <tr>\n",
       "      <th>2004-08-25</th>\n",
       "      <td>53.164113</td>\n",
       "      <td>1.886792</td>\n",
       "      <td>1.183658</td>\n",
       "      <td>9188600.0</td>\n",
       "      <td>223.309335</td>\n",
       "    </tr>\n",
       "  </tbody>\n",
       "</table>\n",
       "</div>"
      ],
      "text/plain": [
       "            Adj. Close    HL_PCT  PCT_change  Adj. Volume       label\n",
       "Date                                                                 \n",
       "2004-08-19   50.322842  3.712563    0.324968   44659000.0  214.005615\n",
       "2004-08-20   54.322689  0.710922    7.227007   22834300.0  210.725489\n",
       "2004-08-23   54.869377  3.729433   -1.227880   18256100.0  208.072299\n",
       "2004-08-24   52.597363  6.417469   -5.726357   15247300.0  218.288837\n",
       "2004-08-25   53.164113  1.886792    1.183658    9188600.0  223.309335"
      ]
     },
     "execution_count": 94,
     "metadata": {},
     "output_type": "execute_result"
    }
   ],
   "source": [
    "df['label'] = df[forecast_col].shift(-forecast_out)\n",
    "df1 = df.copy()\n",
    "df.dropna(inplace=True)\n",
    "\n",
    "df.head()\n"
   ]
  },
  {
   "cell_type": "markdown",
   "metadata": {},
   "source": [
    "# Day 4"
   ]
  },
  {
   "cell_type": "code",
   "execution_count": 95,
   "metadata": {},
   "outputs": [],
   "source": [
    "from sklearn.model_selection import train_test_split\n",
    "from sklearn.linear_model import LinearRegression\n",
    "from sklearn import preprocessing\n",
    "from sklearn.svm import SVR\n",
    "\n",
    "x = np.array(df.drop(['label'], axis=1))\n",
    "y = np.array(df['label'])\n",
    "\n",
    "X = preprocessing.scale(x)\n",
    "\n",
    "\n",
    "\n",
    "X_train, X_test, y_train, y_test = train_test_split(X, y, test_size=0.2, random_state=0)"
   ]
  },
  {
   "cell_type": "code",
   "execution_count": 96,
   "metadata": {},
   "outputs": [
    {
     "data": {
      "text/plain": [
       "0.8885732760368833"
      ]
     },
     "execution_count": 96,
     "metadata": {},
     "output_type": "execute_result"
    }
   ],
   "source": [
    "reg = LinearRegression()\n",
    "reg.fit(X_train, y_train)\n",
    "reg_accuracy = reg.score(X_test, y_test)\n",
    "reg_accuracy"
   ]
  },
  {
   "cell_type": "code",
   "execution_count": 97,
   "metadata": {},
   "outputs": [
    {
     "data": {
      "text/plain": [
       "0.7313538252325764"
      ]
     },
     "execution_count": 97,
     "metadata": {},
     "output_type": "execute_result"
    }
   ],
   "source": [
    "svr = SVR()\n",
    "svr.fit(X_train, y_train)\n",
    "svr_accuracy = svr.score(X_test, y_test)\n",
    "svr_accuracy"
   ]
  },
  {
   "cell_type": "code",
   "execution_count": 98,
   "metadata": {},
   "outputs": [
    {
     "data": {
      "text/plain": [
       "Adj. Close     0\n",
       "HL_PCT         0\n",
       "PCT_change     0\n",
       "Adj. Volume    0\n",
       "label          0\n",
       "dtype: int64"
      ]
     },
     "execution_count": 98,
     "metadata": {},
     "output_type": "execute_result"
    }
   ],
   "source": [
    "df.isnull().sum()"
   ]
  },
  {
   "cell_type": "markdown",
   "metadata": {},
   "source": [
    "# Day 5"
   ]
  },
  {
   "cell_type": "code",
   "execution_count": 99,
   "metadata": {},
   "outputs": [],
   "source": [
    "\n",
    "new_X = np.array(df1.drop(['label'], axis=1))\n",
    "new_X = preprocessing.scale(new_X)\n",
    "new_X_lately = new_X[-forecast_out:]\n",
    "new_X = new_X[:-forecast_out]\n",
    "\n",
    "\n",
    "df1.dropna(inplace=True)\n",
    "y1 = np.array(df1['label'])\n",
    "\n",
    "X_train1, X_test1, y_train1, y_test1 = train_test_split(new_X, y1, test_size=0.2, random_state=0)"
   ]
  },
  {
   "cell_type": "code",
   "execution_count": 100,
   "metadata": {},
   "outputs": [
    {
     "data": {
      "text/plain": [
       "0.8885732760368833"
      ]
     },
     "execution_count": 100,
     "metadata": {},
     "output_type": "execute_result"
    }
   ],
   "source": [
    "new_reg = LinearRegression()\n",
    "new_reg.fit(X_train, y_train)\n",
    "new_reg_accuracy = new_reg.score(X_test, y_test)\n",
    "new_reg_accuracy"
   ]
  },
  {
   "cell_type": "code",
   "execution_count": 101,
   "metadata": {},
   "outputs": [
    {
     "name": "stdout",
     "output_type": "stream",
     "text": [
      "[ 766.54657087  760.03178875  782.1625419   775.16036089  784.4118709\n",
      "  782.87461368  784.0956868   786.75060332  778.84521547  774.73072142\n",
      "  804.27436106  791.9531292   781.16934941  767.22324418  769.17491635\n",
      "  779.48657176  779.03170916  791.88197248  792.97436838  806.93639669\n",
      "  804.53688884  819.16450494  816.96611471  813.51984518  805.1752324\n",
      "  809.56922908  807.0986841   803.31512941  801.36636024  802.14986274\n",
      "  809.57905841  800.60585189  797.57112297  790.84093724  807.84596294\n",
      "  803.72043199  807.19946623  826.01887746  819.98991997  817.87236199\n",
      "  819.56038586  818.7939808   823.50853827  816.73406171  817.01528585\n",
      "  821.66873989  816.28526709  840.91764648  839.40388643  846.90464687\n",
      "  843.80372215  850.38414529  819.34545495  812.41275305  809.22026259\n",
      "  818.34625366  814.67007039  811.12873552  823.07930245  823.07232172\n",
      "  818.80876256  826.34524435  830.38644577  829.29144162  829.19981316\n",
      "  832.09853878  836.66665403  839.98838945  842.79603476  838.4311737\n",
      "  834.17142285  840.4252336   834.50346318  846.91390636  840.04428255\n",
      "  837.40890922  835.8333505   842.83275323  844.10666434  849.78859919\n",
      "  848.75506524  855.2673378   854.06697688  854.48161153  857.18912849\n",
      "  857.04825841  853.67128537  853.65764533  843.50377908  825.60344089\n",
      "  828.94656253  836.82003665  834.41843889  843.12336843  836.93711699\n",
      "  836.50166469  850.29934018  841.7569992   846.59691184  839.82195352\n",
      "  831.65259038  835.63085054  832.07474256  833.40470367  831.2007918\n",
      "  851.73415051  845.39823105  846.16520984  850.45694178  847.37908428\n",
      "  870.6803158   879.68654478  874.68566634  876.29442037  913.04243017\n",
      "  919.94253312  924.74717407  935.48625939  938.89240662  932.64260624\n",
      "  944.52306343  936.13883044  932.37825876  937.90034812  932.94837457\n",
      "  941.96860148  942.22791485  931.19635483  936.30125501  938.25715585\n",
      "  944.96271145  950.32579602  953.84064263  977.43060869  970.17687403\n",
      "  972.3977387   969.59499341  965.56321165  973.3595878   983.67955439\n",
      "  979.30226756  977.96513116  977.04849087  965.09023692  944.49503284\n",
      "  952.86223337  952.63745586  943.67025601  935.22671798  958.1800406\n",
      "  954.68139595  959.17834064  955.71998725  966.8651319   962.65434556\n",
      "  939.6136142   945.06125727  922.58150263  917.69431658  908.63494655\n",
      "  920.62578341  918.76868632  929.75900875  936.27346707  933.26020427\n",
      "  949.33403688  954.69593498  953.82593852  958.895412    974.04521497\n",
      "  970.57622696  969.65345038  970.94010853  981.31406097  948.1181855\n",
      "  945.59874548  937.40348698  945.15686954  932.2005282   932.94879286\n",
      "  924.87992663  924.6108913   926.19009717  925.37039774  931.88669191\n",
      "  923.29111421  910.21836993  916.88767634  919.11057271  920.36799896\n",
      "  930.69024304  916.85032439  910.60554062  906.39386491  928.83264505\n",
      "  927.45297045  922.31380246  916.40690935  913.12632963  928.11473895\n",
      "  929.28276655  939.52746581  932.98146668  927.90036918  920.98253612\n",
      "  931.14098565  925.44697985  929.99452976  925.02299651  933.54941473\n",
      "  923.69412681  917.61626134  913.64555365  918.31221438  933.66234213\n",
      "  930.6455238   929.74097146  915.19796741  924.01046827  953.61342038\n",
      "  947.4379663   955.28521931  949.88074703  950.16460052  948.51614633\n",
      "  968.1223403   975.82103019  973.52557027  968.20665428  990.01076278\n",
      "  985.31526028  986.7742067   983.67725778  988.90089423  988.98696066\n",
      "  978.10134073  979.35645586  971.32725129  963.53580656  971.22589022\n",
      "  978.01113317 1036.96600232 1011.77352564 1011.44263103 1020.16999974\n",
      " 1015.96821564 1022.6410475  1018.99445128 1022.49285291 1018.41186943\n",
      " 1015.50894405 1019.07598771 1013.32088822 1010.16242887 1026.24373854\n",
      " 1014.13031691 1007.86921246 1024.44578611 1024.32323289 1029.29594521\n",
      " 1046.56575101 1042.2702034  1018.67017771 1011.17064554 1005.63993828\n",
      "  996.05289548 1015.79077415 1020.43649521 1022.92181948 1023.51842559\n",
      " 1024.68840109 1031.56341747 1022.99497828 1036.59835401 1044.54477348\n",
      " 1056.02131224 1048.52970368 1043.15499139 1041.45602993 1037.59232642\n",
      " 1033.96554325 1032.50868424 1029.74791028 1024.81841075 1054.13024572\n",
      " 1070.99231634 1067.76405844 1079.85189979 1083.4344417  1077.51159884\n",
      " 1077.20975784 1076.96026134 1103.10092808 1105.01809407 1100.21851803\n",
      " 1098.71862694 1105.80839826 1135.80881164 1137.30058049 1136.5603031\n",
      " 1141.36667399 1141.89800948 1152.73150055 1143.90219807 1140.83479644\n",
      " 1145.07308018 1084.74282471 1067.43541275 1081.97042906 1040.20901843\n",
      " 1014.4819594  1029.60968674 1031.8616801  1031.9015484  1052.05478559\n",
      " 1062.47256046 1074.11412523 1086.83060329 1102.83687738 1083.9711255\n",
      " 1095.06298035 1109.90064498 1093.04114825 1081.76008078 1059.58140826\n",
      " 1066.76452065 1075.52988761 1068.4854892  1091.04927648 1098.88486176\n",
      " 1130.02225279 1135.77252607 1122.49124129 1120.34107343 1122.2221019\n",
      " 1105.76500387 1072.83342453 1067.29710512 1074.51263094 1038.52992071\n",
      " 1028.70466307 1027.51662677 1013.27064071] 0.8885732760368833 343\n"
     ]
    }
   ],
   "source": [
    "forecast_set = new_reg.predict(new_X_lately)\n",
    "print(forecast_set, new_reg_accuracy, forecast_out)"
   ]
  },
  {
   "cell_type": "code",
   "execution_count": 102,
   "metadata": {},
   "outputs": [],
   "source": [
    "df1['Forecast'] = np.nan"
   ]
  },
  {
   "cell_type": "code",
   "execution_count": 103,
   "metadata": {},
   "outputs": [],
   "source": [
    "last_date = df1.iloc[-1].name\n",
    "last_unix = last_date.timestamp()\n",
    "one_day = 86400\n",
    "next_unix = last_unix + one_day"
   ]
  },
  {
   "cell_type": "code",
   "execution_count": 104,
   "metadata": {},
   "outputs": [],
   "source": [
    "for i in forecast_set:\n",
    "    next_date = datetime.datetime.fromtimestamp(next_unix)\n",
    "    next_unix += one_day\n",
    "    df1.loc[next_date] = [np.nan for _ in range(len(df1.columns)-1)] + [i]"
   ]
  },
  {
   "cell_type": "code",
   "execution_count": 106,
   "metadata": {},
   "outputs": [
    {
     "data": {
      "image/png": "[encoded data removed]",
      "text/plain": [
       "<Figure size 432x288 with 1 Axes>"
      ]
     },
     "metadata": {},
     "output_type": "display_data"
    }
   ],
   "source": [
    "style.use('ggplot')\n",
    "\n",
    "\n",
    "df1['Adj. Close'].plot()\n",
    "df1['Forecast'].plot()\n",
    "plt.legend(loc=4)\n",
    "plt.xlabel('Date')\n",
    "plt.ylabel('Price')\n",
    "plt.savefig('stock-price-fig.png')"
   ]
  },
  {
   "cell_type": "markdown",
   "metadata": {},
   "source": [
    "# Day 6\n",
    "Pickling and Scaling\n",
    "\n",
    "Pickle is used here to save and load our trained regressor to save us the time of training it everytime we want to use it."
   ]
  },
  {
   "cell_type": "code",
   "execution_count": 32,
   "metadata": {},
   "outputs": [
    {
     "data": {
      "text/plain": [
       "0.9793864220258133"
      ]
     },
     "execution_count": 32,
     "metadata": {},
     "output_type": "execute_result"
    }
   ],
   "source": [
    "import pickle\n",
    "\n",
    "# with open('linearregression.pickle', 'wb') as f:\n",
    "#     pickle.dump(reg, f)\n",
    "    \n",
    "pickle_in = open('linearregression.pickle', 'rb')\n",
    "pickle_reg = pickle.load(pickle_in)\n",
    "pickle_reg_accuracy = pickle_reg.score(X_test, y_test)\n",
    "pickle_reg_accuracy"
   ]
  },
  {
   "cell_type": "markdown",
   "metadata": {},
   "source": [
    "# Day 8\n",
    "## Coding a linear regression algorithm from scratch\\\n"
   ]
  },
  {
   "cell_type": "code",
   "execution_count": 28,
   "metadata": {},
   "outputs": [],
   "source": [
    "from statistics import mean"
   ]
  },
  {
   "cell_type": "code",
   "execution_count": 29,
   "metadata": {},
   "outputs": [],
   "source": [
    "# Creating some random data\n",
    "\n",
    "xs = np.array([1,2,3,4,5,6], dtype=np.float64)\n",
    "ys = np.array([5,4,6,5,6,7], dtype=np.float64)"
   ]
  },
  {
   "cell_type": "code",
   "execution_count": 30,
   "metadata": {},
   "outputs": [
    {
     "data": {
      "text/plain": [
       "<matplotlib.collections.PathCollection at 0x14c2b250088>"
      ]
     },
     "execution_count": 30,
     "metadata": {},
     "output_type": "execute_result"
    },
    {
     "data": {
      "image/png": "[encoded data removed]",
      "text/plain": [
       "<Figure size 432x288 with 1 Axes>"
      ]
     },
     "metadata": {
      "needs_background": "light"
     },
     "output_type": "display_data"
    }
   ],
   "source": [
    "plt.scatter(xs,ys)"
   ]
  },
  {
   "cell_type": "code",
   "execution_count": 31,
   "metadata": {},
   "outputs": [
    {
     "data": {
      "text/plain": [
       "0.42857142857142866"
      ]
     },
     "execution_count": 31,
     "metadata": {},
     "output_type": "execute_result"
    }
   ],
   "source": [
    "# To define a functon for best-fit slope\n",
    "def best_fit_slope(xs,ys):\n",
    "    '''\n",
    "    **args:\n",
    "    ___features(xs), targets(ys)\n",
    "    \n",
    "    **formulae:\n",
    "    ___m = ( ((mean(xs) * mean(ys)) - mean(xs*ys)) / \n",
    "         (mean(xs)**2 - mean(xs**2)) )\n",
    "    \n",
    "    **returns:\n",
    "    ___slope as m\n",
    "    '''\n",
    "    \n",
    "    m = ( ((mean(xs) * mean(ys)) - mean(xs*ys)) / \n",
    "         (mean(xs)**2 - mean(xs**2)) )\n",
    "    return m\n",
    "\n",
    "m = best_fit_slope(xs,ys)\n",
    "m"
   ]
  },
  {
   "cell_type": "markdown",
   "metadata": {},
   "source": [
    "# Day 9\n"
   ]
  },
  {
   "cell_type": "code",
   "execution_count": 33,
   "metadata": {},
   "outputs": [
    {
     "data": {
      "text/plain": [
       "4.0"
      ]
     },
     "execution_count": 33,
     "metadata": {},
     "output_type": "execute_result"
    }
   ],
   "source": [
    "# To define a function for best-intercept\n",
    "def best_intercept(slope):\n",
    "    '''\n",
    "    **args:\n",
    "    ___Slope\n",
    "    \n",
    "    **formulae:\n",
    "    ___b = mean(y) - m*mean(x)\n",
    "    \n",
    "    **returns:\n",
    "    ___intercept\n",
    "    '''\n",
    "    \n",
    "    intercept = mean(ys) - (slope*mean(xs)) \n",
    "    return intercept\n",
    "\n",
    "b = best_intercept(best_fit_slope(xs,ys))\n",
    "b"
   ]
  },
  {
   "cell_type": "code",
   "execution_count": 34,
   "metadata": {},
   "outputs": [],
   "source": [
    "# Creating of list of the possible regression lines \n",
    "# from the data\n",
    "\n",
    "regression_line = [((m*x)+b) for x in xs]"
   ]
  },
  {
   "cell_type": "code",
   "execution_count": 35,
   "metadata": {},
   "outputs": [
    {
     "data": {
      "text/plain": [
       "[<matplotlib.lines.Line2D at 0x14c2b2bab88>]"
      ]
     },
     "execution_count": 35,
     "metadata": {},
     "output_type": "execute_result"
    },
    {
     "data": {
      "image/png": "[encoded data removed]",
      "text/plain": [
       "<Figure size 432x288 with 1 Axes>"
      ]
     },
     "metadata": {},
     "output_type": "display_data"
    }
   ],
   "source": [
    "# Visualizing the lines on the data\n",
    "\n",
    "style.use(\"fivethirtyeight\")\n",
    "\n",
    "plt.scatter(xs,ys)\n",
    "plt.plot(xs, regression_line)"
   ]
  },
  {
   "cell_type": "code",
   "execution_count": 71,
   "metadata": {},
   "outputs": [
    {
     "name": "stdout",
     "output_type": "stream",
     "text": [
      "0.5844155844155845\n"
     ]
    },
    {
     "data": {
      "image/png": "[encoded data removed]",
      "text/plain": [
       "<Figure size 432x288 with 1 Axes>"
      ]
     },
     "metadata": {},
     "output_type": "display_data"
    }
   ],
   "source": [
    "# To make a prediction and visualize\n",
    "\n",
    "def visualize(xs, ys, to_predict=None):\n",
    "    '''\n",
    "    **args:\n",
    "    ___X-Values, Y-Values, Point to predict \n",
    "    \n",
    "    **formulae:\n",
    "    ___None\n",
    "    \n",
    "    **returns:\n",
    "    ___a visyal plot of the regression model and possible predictions\n",
    "    '''\n",
    "    \n",
    "    slope = best_fit_slope(xs,ys)\n",
    "    intercept = best_intercept(slope)\n",
    "    regression_line = [((slope*x)+intercept) for x in xs]\n",
    "    r_squared = coefficient_of_determination(ys, regression_line)\n",
    "    print(r_squared)\n",
    "    \n",
    "    if to_predict:\n",
    "        predict_x = to_predict\n",
    "        predict_y = (m*predict_x)+b\n",
    "        plt.scatter(predict_x, predict_y, s=100, color=\"g\")        \n",
    "        plt.scatter(xs,ys)\n",
    "        plt.plot(xs, regression_line)\n",
    "    else:\n",
    "        pass\n",
    "\n",
    "    plt.scatter(xs,ys)\n",
    "    plt.plot(xs, regression_line)\n",
    "    \n",
    "    return plt.show()\n",
    "\n",
    "visualize(xs,ys,8)"
   ]
  },
  {
   "cell_type": "markdown",
   "metadata": {},
   "source": [
    "# Day 10 - 11"
   ]
  },
  {
   "cell_type": "code",
   "execution_count": 37,
   "metadata": {},
   "outputs": [],
   "source": [
    "# Calculating the squarred error\n",
    "\n",
    "def squared_error(ys_orig, ys_line):\n",
    "    '''\n",
    "    **args:\n",
    "    ___Y-Actual Values, Y-Predictions\n",
    "    \n",
    "    **formulae:\n",
    "    ___error = summation((ys_orig-ys_line)**2)\n",
    "    \n",
    "    **returns:\n",
    "    ___error\n",
    "    '''\n",
    "    return sum((ys_orig-ys_line)**2)\n",
    "    "
   ]
  },
  {
   "cell_type": "code",
   "execution_count": 38,
   "metadata": {},
   "outputs": [],
   "source": [
    "# Calculating the coefficient of determination\n",
    "\n",
    "def coefficient_of_determination(ys_orig, ys_line):\n",
    "    '''\n",
    "    **args:\n",
    "    ___Y-Actual Values, Y-Predictions \n",
    "    \n",
    "    **formulae:\n",
    "    ___coeff(r^2) = 1 - (squared-error(y-hat)/(squared-error(y-mean))\n",
    "    \n",
    "    **returns:\n",
    "    ___r^2\n",
    "    '''\n",
    "    \n",
    "    y_mean_line = [mean(ys_orig) for y in ys_orig]\n",
    "    squared_error_regr = squared_error(ys_orig, ys_line)\n",
    "    squared_error_y_mean = squared_error(ys_orig, y_mean_line)\n",
    "    \n",
    "    return 1 - (squared_error_regr / squared_error_y_mean)"
   ]
  },
  {
   "cell_type": "code",
   "execution_count": 39,
   "metadata": {},
   "outputs": [
    {
     "data": {
      "text/plain": [
       "0.5844155844155845"
      ]
     },
     "execution_count": 39,
     "metadata": {},
     "output_type": "execute_result"
    }
   ],
   "source": [
    "r_squared = coefficient_of_determination(ys, regression_line)\n",
    "r_squared"
   ]
  },
  {
   "cell_type": "markdown",
   "metadata": {},
   "source": [
    "# Day 12\n",
    "\n",
    "### Testing Assumptions"
   ]
  },
  {
   "cell_type": "code",
   "execution_count": 54,
   "metadata": {},
   "outputs": [],
   "source": [
    "import random\n",
    "\n",
    "def create_dataset(how_many, variance, step=2, correlation=False):\n",
    "    '''\n",
    "    **args:\n",
    "    ___how_many=(size of our data_points), variance=boundary for generated values\n",
    "    ___step=(how far the values are to be incresed for every y), correlation=(determinant for the step)\n",
    "    \n",
    "    **formulae:\n",
    "    ___None\n",
    "    \n",
    "    **returns:\n",
    "    ___An array of generated x and y values \n",
    "    '''    \n",
    "    \n",
    "    val = 1\n",
    "    ys = []\n",
    "    for i in range(how_many):\n",
    "        y = val + random.randrange(-variance, variance)\n",
    "        ys.append(y)\n",
    "        \n",
    "        if correlation and correlation == 'pos':\n",
    "            val += step\n",
    "        elif correlation and correlation == 'neg':\n",
    "            val -= step\n",
    "            \n",
    "    xs = [i for i in range(len(ys))]\n",
    "    \n",
    "    \n",
    "    return np.array(xs, dtype=np.float64), np.array(ys, dtype=np.float64)"
   ]
  },
  {
   "cell_type": "code",
   "execution_count": 85,
   "metadata": {},
   "outputs": [
    {
     "name": "stdout",
     "output_type": "stream",
     "text": [
      "0.20593222398091626\n"
     ]
    },
    {
     "data": {
      "image/png": "[encoded data removed]",
      "text/plain": [
       "<Figure size 432x288 with 1 Axes>"
      ]
     },
     "metadata": {},
     "output_type": "display_data"
    }
   ],
   "source": [
    "# Testing and visualizing our new dataset\n",
    "new_xs, new_ys = create_dataset(40, 80, 2, correlation='pos')\n",
    "\n",
    "visualize(new_xs, new_ys)"
   ]
  },
  {
   "cell_type": "code",
   "execution_count": null,
   "metadata": {},
   "outputs": [],
   "source": []
  }
 ],
 "metadata": {
  "kernelspec": {
   "display_name": "Python 3",
   "language": "python",
   "name": "python3"
  },
  "language_info": {
   "codemirror_mode": {
    "name": "ipython",
    "version": 3
   },
   "file_extension": ".py",
   "mimetype": "text/x-python",
   "name": "python",
   "nbconvert_exporter": "python",
   "pygments_lexer": "ipython3",
   "version": "3.7.7"
  }
 },
 "nbformat": 4,
 "nbformat_minor": 4
}
