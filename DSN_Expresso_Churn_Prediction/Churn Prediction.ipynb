{
 "cells": [
  {
   "cell_type": "markdown",
   "metadata": {},
   "source": [
    "#### In this notebook, I built a model that predicts if a certain customer will churn/leave or discontinue their usage of the Expresso network, the data here was downloaded from zindi, it contains roughly four thousand datapoints on the training set.\n",
    "#### This is an exercise in the 2020 DSN AI+ online prebootcamp "
   ]
  },
  {
   "cell_type": "code",
   "execution_count": 39,
   "metadata": {},
   "outputs": [],
   "source": [
    "import pandas as pd\n",
    "import numpy as np\n",
    "import matplotlib.pyplot as plt\n",
    "import seaborn as sns\n",
    "from matplotlib import style\n",
    "from IPython.display import display\n",
    "import warnings\n",
    "import itertools\n",
    "\n",
    "warnings.filterwarnings('ignore')\n",
    "style.use('ggplot')\n",
    "\n",
    "%matplotlib inline"
   ]
  },
  {
   "cell_type": "code",
   "execution_count": 40,
   "metadata": {},
   "outputs": [
    {
     "data": {
      "text/html": [
       "<div>\n",
       "<style scoped>\n",
       "    .dataframe tbody tr th:only-of-type {\n",
       "        vertical-align: middle;\n",
       "    }\n",
       "\n",
       "    .dataframe tbody tr th {\n",
       "        vertical-align: top;\n",
       "    }\n",
       "\n",
       "    .dataframe thead th {\n",
       "        text-align: right;\n",
       "    }\n",
       "</style>\n",
       "<table border=\"1\" class=\"dataframe\">\n",
       "  <thead>\n",
       "    <tr style=\"text-align: right;\">\n",
       "      <th></th>\n",
       "      <th>user_id</th>\n",
       "      <th>REGION</th>\n",
       "      <th>TENURE</th>\n",
       "      <th>MONTANT</th>\n",
       "      <th>FREQUENCE_RECH</th>\n",
       "      <th>REVENUE</th>\n",
       "      <th>ARPU_SEGMENT</th>\n",
       "      <th>FREQUENCE</th>\n",
       "      <th>DATA_VOLUME</th>\n",
       "      <th>ON_NET</th>\n",
       "      <th>ORANGE</th>\n",
       "      <th>TIGO</th>\n",
       "      <th>ZONE1</th>\n",
       "      <th>ZONE2</th>\n",
       "      <th>MRG</th>\n",
       "      <th>REGULARITY</th>\n",
       "      <th>TOP_PACK</th>\n",
       "      <th>FREQ_TOP_PACK</th>\n",
       "      <th>CHURN</th>\n",
       "    </tr>\n",
       "  </thead>\n",
       "  <tbody>\n",
       "    <tr>\n",
       "      <th>0</th>\n",
       "      <td>dcf68cc2fb515ccad7d8b9b3bd80ee2a4b270063</td>\n",
       "      <td>SAINT-LOUIS</td>\n",
       "      <td>K &gt; 24 month</td>\n",
       "      <td>17000.0</td>\n",
       "      <td>32.0</td>\n",
       "      <td>18000.0</td>\n",
       "      <td>6000.0</td>\n",
       "      <td>34.0</td>\n",
       "      <td>NaN</td>\n",
       "      <td>97.0</td>\n",
       "      <td>355.0</td>\n",
       "      <td>6.0</td>\n",
       "      <td>NaN</td>\n",
       "      <td>NaN</td>\n",
       "      <td>NO</td>\n",
       "      <td>62</td>\n",
       "      <td>All-net 500F=2000F;5d</td>\n",
       "      <td>35.0</td>\n",
       "      <td>0</td>\n",
       "    </tr>\n",
       "    <tr>\n",
       "      <th>1</th>\n",
       "      <td>71c44b5ba328db5c4192a80f7cf8f244d9350ed0</td>\n",
       "      <td>NaN</td>\n",
       "      <td>K &gt; 24 month</td>\n",
       "      <td>4300.0</td>\n",
       "      <td>29.0</td>\n",
       "      <td>4427.0</td>\n",
       "      <td>1476.0</td>\n",
       "      <td>37.0</td>\n",
       "      <td>1764.0</td>\n",
       "      <td>8.0</td>\n",
       "      <td>3.0</td>\n",
       "      <td>0.0</td>\n",
       "      <td>NaN</td>\n",
       "      <td>2.0</td>\n",
       "      <td>NO</td>\n",
       "      <td>40</td>\n",
       "      <td>Data: 100 F=40MB,24H</td>\n",
       "      <td>22.0</td>\n",
       "      <td>0</td>\n",
       "    </tr>\n",
       "    <tr>\n",
       "      <th>2</th>\n",
       "      <td>ce46411b1526c94f20a383b8cb188f8d27f82a0a</td>\n",
       "      <td>TAMBACOUNDA</td>\n",
       "      <td>K &gt; 24 month</td>\n",
       "      <td>1500.0</td>\n",
       "      <td>3.0</td>\n",
       "      <td>1500.0</td>\n",
       "      <td>500.0</td>\n",
       "      <td>3.0</td>\n",
       "      <td>NaN</td>\n",
       "      <td>30.0</td>\n",
       "      <td>30.0</td>\n",
       "      <td>NaN</td>\n",
       "      <td>NaN</td>\n",
       "      <td>NaN</td>\n",
       "      <td>NO</td>\n",
       "      <td>32</td>\n",
       "      <td>All-net 500F=2000F;5d</td>\n",
       "      <td>3.0</td>\n",
       "      <td>0</td>\n",
       "    </tr>\n",
       "    <tr>\n",
       "      <th>3</th>\n",
       "      <td>f467cdb6669818373c26c2bad44e01ba66f97d21</td>\n",
       "      <td>FATICK</td>\n",
       "      <td>K &gt; 24 month</td>\n",
       "      <td>1500.0</td>\n",
       "      <td>3.0</td>\n",
       "      <td>2497.0</td>\n",
       "      <td>832.0</td>\n",
       "      <td>4.0</td>\n",
       "      <td>0.0</td>\n",
       "      <td>159.0</td>\n",
       "      <td>45.0</td>\n",
       "      <td>19.0</td>\n",
       "      <td>NaN</td>\n",
       "      <td>NaN</td>\n",
       "      <td>NO</td>\n",
       "      <td>18</td>\n",
       "      <td>On net 200F=Unlimited _call24H</td>\n",
       "      <td>3.0</td>\n",
       "      <td>0</td>\n",
       "    </tr>\n",
       "    <tr>\n",
       "      <th>4</th>\n",
       "      <td>ec45e1a1888a32b5dcce0954cfec20c6e037db31</td>\n",
       "      <td>FATICK</td>\n",
       "      <td>K &gt; 24 month</td>\n",
       "      <td>NaN</td>\n",
       "      <td>NaN</td>\n",
       "      <td>498.0</td>\n",
       "      <td>166.0</td>\n",
       "      <td>3.0</td>\n",
       "      <td>1.0</td>\n",
       "      <td>1.0</td>\n",
       "      <td>3.0</td>\n",
       "      <td>NaN</td>\n",
       "      <td>NaN</td>\n",
       "      <td>NaN</td>\n",
       "      <td>NO</td>\n",
       "      <td>50</td>\n",
       "      <td>NaN</td>\n",
       "      <td>NaN</td>\n",
       "      <td>0</td>\n",
       "    </tr>\n",
       "  </tbody>\n",
       "</table>\n",
       "</div>"
      ],
      "text/plain": [
       "                                    user_id       REGION        TENURE  \\\n",
       "0  dcf68cc2fb515ccad7d8b9b3bd80ee2a4b270063  SAINT-LOUIS  K > 24 month   \n",
       "1  71c44b5ba328db5c4192a80f7cf8f244d9350ed0          NaN  K > 24 month   \n",
       "2  ce46411b1526c94f20a383b8cb188f8d27f82a0a  TAMBACOUNDA  K > 24 month   \n",
       "3  f467cdb6669818373c26c2bad44e01ba66f97d21       FATICK  K > 24 month   \n",
       "4  ec45e1a1888a32b5dcce0954cfec20c6e037db31       FATICK  K > 24 month   \n",
       "\n",
       "   MONTANT  FREQUENCE_RECH  REVENUE  ARPU_SEGMENT  FREQUENCE  DATA_VOLUME  \\\n",
       "0  17000.0            32.0  18000.0        6000.0       34.0          NaN   \n",
       "1   4300.0            29.0   4427.0        1476.0       37.0       1764.0   \n",
       "2   1500.0             3.0   1500.0         500.0        3.0          NaN   \n",
       "3   1500.0             3.0   2497.0         832.0        4.0          0.0   \n",
       "4      NaN             NaN    498.0         166.0        3.0          1.0   \n",
       "\n",
       "   ON_NET  ORANGE  TIGO  ZONE1  ZONE2 MRG  REGULARITY  \\\n",
       "0    97.0   355.0   6.0    NaN    NaN  NO          62   \n",
       "1     8.0     3.0   0.0    NaN    2.0  NO          40   \n",
       "2    30.0    30.0   NaN    NaN    NaN  NO          32   \n",
       "3   159.0    45.0  19.0    NaN    NaN  NO          18   \n",
       "4     1.0     3.0   NaN    NaN    NaN  NO          50   \n",
       "\n",
       "                         TOP_PACK  FREQ_TOP_PACK  CHURN  \n",
       "0           All-net 500F=2000F;5d           35.0      0  \n",
       "1            Data: 100 F=40MB,24H           22.0      0  \n",
       "2           All-net 500F=2000F;5d            3.0      0  \n",
       "3  On net 200F=Unlimited _call24H            3.0      0  \n",
       "4                             NaN            NaN      0  "
      ]
     },
     "execution_count": 40,
     "metadata": {},
     "output_type": "execute_result"
    }
   ],
   "source": [
    "#Reading in the data\n",
    "\n",
    "train = pd.read_csv('Train.csv')\n",
    "test = pd.read_csv('Test.csv')\n",
    "sample_subm = pd.read_csv('sample_submission.csv')\n",
    "data_dscr = pd.read_csv('VariableDefinitions.csv')\n",
    "train.head(5)"
   ]
  },
  {
   "cell_type": "code",
   "execution_count": 41,
   "metadata": {},
   "outputs": [
    {
     "data": {
      "text/html": [
       "<div>\n",
       "<style scoped>\n",
       "    .dataframe tbody tr th:only-of-type {\n",
       "        vertical-align: middle;\n",
       "    }\n",
       "\n",
       "    .dataframe tbody tr th {\n",
       "        vertical-align: top;\n",
       "    }\n",
       "\n",
       "    .dataframe thead th {\n",
       "        text-align: right;\n",
       "    }\n",
       "</style>\n",
       "<table border=\"1\" class=\"dataframe\">\n",
       "  <thead>\n",
       "    <tr style=\"text-align: right;\">\n",
       "      <th></th>\n",
       "      <th>Variable Definitions</th>\n",
       "      <th>Unnamed: 1</th>\n",
       "      <th>Unnamed: 2</th>\n",
       "    </tr>\n",
       "  </thead>\n",
       "  <tbody>\n",
       "    <tr>\n",
       "      <th>0</th>\n",
       "      <td>NaN</td>\n",
       "      <td>French</td>\n",
       "      <td>English</td>\n",
       "    </tr>\n",
       "    <tr>\n",
       "      <th>1</th>\n",
       "      <td>NaN</td>\n",
       "      <td>Le dataset churn comprend 19 variables dont 15...</td>\n",
       "      <td>The churn dataset includes 19 variables includ...</td>\n",
       "    </tr>\n",
       "    <tr>\n",
       "      <th>2</th>\n",
       "      <td>user_id</td>\n",
       "      <td>NaN</td>\n",
       "      <td>NaN</td>\n",
       "    </tr>\n",
       "    <tr>\n",
       "      <th>3</th>\n",
       "      <td>REGION</td>\n",
       "      <td>la localité de chaque client</td>\n",
       "      <td>the location of each client</td>\n",
       "    </tr>\n",
       "    <tr>\n",
       "      <th>4</th>\n",
       "      <td>TENURE</td>\n",
       "      <td>la durée dans le reseau</td>\n",
       "      <td>duration in the network</td>\n",
       "    </tr>\n",
       "    <tr>\n",
       "      <th>5</th>\n",
       "      <td>MONTANT</td>\n",
       "      <td>montant de recharge</td>\n",
       "      <td>top-up amount</td>\n",
       "    </tr>\n",
       "    <tr>\n",
       "      <th>6</th>\n",
       "      <td>FREQUENCE_RECH</td>\n",
       "      <td>nombre de fois que le client a fait une recharge</td>\n",
       "      <td>number of times the customer refilled</td>\n",
       "    </tr>\n",
       "    <tr>\n",
       "      <th>7</th>\n",
       "      <td>REVENUE</td>\n",
       "      <td>revenu mensuel de chaque client</td>\n",
       "      <td>monthly income of each client</td>\n",
       "    </tr>\n",
       "    <tr>\n",
       "      <th>8</th>\n",
       "      <td>ARPU_SEGMENT</td>\n",
       "      <td>revenu sur 90 jours/3</td>\n",
       "      <td>income over 90 days / 3</td>\n",
       "    </tr>\n",
       "    <tr>\n",
       "      <th>9</th>\n",
       "      <td>FREQUENCE</td>\n",
       "      <td>nombre de fois que client à fait un revenu</td>\n",
       "      <td>number of times the client has made an income</td>\n",
       "    </tr>\n",
       "    <tr>\n",
       "      <th>10</th>\n",
       "      <td>DATA_VOLUME</td>\n",
       "      <td>nombre de connexions</td>\n",
       "      <td>number of connections</td>\n",
       "    </tr>\n",
       "    <tr>\n",
       "      <th>11</th>\n",
       "      <td>ON_NET</td>\n",
       "      <td>appel inter expresso</td>\n",
       "      <td>inter expresso call</td>\n",
       "    </tr>\n",
       "    <tr>\n",
       "      <th>12</th>\n",
       "      <td>ORANGE</td>\n",
       "      <td>appel vers orange</td>\n",
       "      <td>call to orange</td>\n",
       "    </tr>\n",
       "    <tr>\n",
       "      <th>13</th>\n",
       "      <td>TIGO</td>\n",
       "      <td>appel vers Tigo</td>\n",
       "      <td>call to Tigo</td>\n",
       "    </tr>\n",
       "    <tr>\n",
       "      <th>14</th>\n",
       "      <td>ZONE1</td>\n",
       "      <td>appel vers les zone1</td>\n",
       "      <td>call to zones1</td>\n",
       "    </tr>\n",
       "    <tr>\n",
       "      <th>15</th>\n",
       "      <td>ZONE2</td>\n",
       "      <td>appel vers les zone2</td>\n",
       "      <td>call to zones2</td>\n",
       "    </tr>\n",
       "    <tr>\n",
       "      <th>16</th>\n",
       "      <td>MRG</td>\n",
       "      <td>un client qui fait du vas</td>\n",
       "      <td>a client who is going</td>\n",
       "    </tr>\n",
       "    <tr>\n",
       "      <th>17</th>\n",
       "      <td>REGULARITY</td>\n",
       "      <td>nombre de fois que le client est actif pendant...</td>\n",
       "      <td>number of times the client is active for 90 days</td>\n",
       "    </tr>\n",
       "    <tr>\n",
       "      <th>18</th>\n",
       "      <td>TOP_PACK</td>\n",
       "      <td>les pack les plus activés</td>\n",
       "      <td>the most active packs</td>\n",
       "    </tr>\n",
       "    <tr>\n",
       "      <th>19</th>\n",
       "      <td>FREQ_TOP_PACK</td>\n",
       "      <td>nombre de fois que le client a activé les pack...</td>\n",
       "      <td>number of times the client has activated the t...</td>\n",
       "    </tr>\n",
       "    <tr>\n",
       "      <th>20</th>\n",
       "      <td>CHURN</td>\n",
       "      <td>variable à predire - Target</td>\n",
       "      <td>variable to predict - Target</td>\n",
       "    </tr>\n",
       "  </tbody>\n",
       "</table>\n",
       "</div>"
      ],
      "text/plain": [
       "   Variable Definitions                                         Unnamed: 1  \\\n",
       "0                   NaN                                             French   \n",
       "1                   NaN  Le dataset churn comprend 19 variables dont 15...   \n",
       "2               user_id                                                NaN   \n",
       "3                REGION                       la localité de chaque client   \n",
       "4                TENURE                            la durée dans le reseau   \n",
       "5               MONTANT                                montant de recharge   \n",
       "6        FREQUENCE_RECH   nombre de fois que le client a fait une recharge   \n",
       "7               REVENUE                    revenu mensuel de chaque client   \n",
       "8          ARPU_SEGMENT                              revenu sur 90 jours/3   \n",
       "9             FREQUENCE         nombre de fois que client à fait un revenu   \n",
       "10          DATA_VOLUME                               nombre de connexions   \n",
       "11               ON_NET                               appel inter expresso   \n",
       "12               ORANGE                                  appel vers orange   \n",
       "13                 TIGO                                    appel vers Tigo   \n",
       "14                ZONE1                               appel vers les zone1   \n",
       "15                ZONE2                               appel vers les zone2   \n",
       "16                  MRG                          un client qui fait du vas   \n",
       "17           REGULARITY  nombre de fois que le client est actif pendant...   \n",
       "18             TOP_PACK                          les pack les plus activés   \n",
       "19        FREQ_TOP_PACK  nombre de fois que le client a activé les pack...   \n",
       "20                CHURN                        variable à predire - Target   \n",
       "\n",
       "                                           Unnamed: 2  \n",
       "0                                             English  \n",
       "1   The churn dataset includes 19 variables includ...  \n",
       "2                                                 NaN  \n",
       "3                         the location of each client  \n",
       "4                             duration in the network  \n",
       "5                                       top-up amount  \n",
       "6               number of times the customer refilled  \n",
       "7                       monthly income of each client  \n",
       "8                             income over 90 days / 3  \n",
       "9       number of times the client has made an income  \n",
       "10                              number of connections  \n",
       "11                                inter expresso call  \n",
       "12                                     call to orange  \n",
       "13                                       call to Tigo  \n",
       "14                                     call to zones1  \n",
       "15                                     call to zones2  \n",
       "16                              a client who is going  \n",
       "17   number of times the client is active for 90 days  \n",
       "18                              the most active packs  \n",
       "19  number of times the client has activated the t...  \n",
       "20                       variable to predict - Target  "
      ]
     },
     "execution_count": 41,
     "metadata": {},
     "output_type": "execute_result"
    }
   ],
   "source": [
    "data_dscr"
   ]
  },
  {
   "cell_type": "markdown",
   "metadata": {},
   "source": [
    "### Cleaning the data"
   ]
  },
  {
   "cell_type": "code",
   "execution_count": 43,
   "metadata": {},
   "outputs": [],
   "source": [
    "# writing different functions to ensure modularity\n",
    "#\n",
    "\n",
    "def check_null(data):\n",
    "    \"\"\"\n",
    "    *** This function returns a fraction of the\n",
    "        null values per feature in the data\n",
    "    ** Args:\n",
    "        Data - pandas dataframe\n",
    "    ** Return:\n",
    "        decimal value - (sum of null values per feature / sum of data points)\n",
    "    \"\"\"\n",
    "    print(f\"Shape: {data.shape}\")\n",
    "    return data.isnull().sum()/data.shape[0]\n",
    "\n",
    "def plot_feature_importances(model, data):\n",
    "    \"\"\"\n",
    "    *** Returns a plot of the feature importance as scored by the model\n",
    "    ** Args:\n",
    "        Data - pandas dataframe\n",
    "        Model - Algorithm\n",
    "    ** Return:\n",
    "        bar plot\n",
    "    \"\"\"\n",
    "    plt.figure(figsize=(15, 8));\n",
    "    n_features = data.shape[1]\n",
    "    plt.barh(range(n_features), model.feature_importances_, align='center')\n",
    "    plt.yticks(np.arange(n_features), data.columns)\n",
    "    plt.xlabel('Feature Importance')\n",
    "    plt.ylabel('Feature')\n",
    "    \n",
    "def categorical_plot(data):\n",
    "    \"\"\"\n",
    "    *** Return a plot of categorical features in a data\n",
    "    ** Args:\n",
    "        Data - pandas dataframe\n",
    "    ** Return:\n",
    "        bar plot\n",
    "    \"\"\"\n",
    "    for col in cat_cols:\n",
    "        if col in data.columns:\n",
    "            sns.countplot(y=col, hue='CHURN', data=data)\n",
    "            plt.show()"
   ]
  },
  {
   "cell_type": "code",
   "execution_count": 44,
   "metadata": {},
   "outputs": [],
   "source": [
    "## Adding train and test data together to prevent repeating the preprocessing stages\n",
    "##\n",
    "train['is_train'] = 1\n",
    "test['is_train'] = 0\n",
    "all_data = pd.concat([train, test])"
   ]
  },
  {
   "cell_type": "code",
   "execution_count": 45,
   "metadata": {},
   "outputs": [
    {
     "name": "stdout",
     "output_type": "stream",
     "text": [
      "Shape: (500000, 20)\n"
     ]
    },
    {
     "data": {
      "text/plain": [
       "(user_id           0.000000\n",
       " REGION            0.393626\n",
       " TENURE            0.000000\n",
       " MONTANT           0.350456\n",
       " FREQUENCE_RECH    0.350456\n",
       " REVENUE           0.336306\n",
       " ARPU_SEGMENT      0.336306\n",
       " FREQUENCE         0.336306\n",
       " DATA_VOLUME       0.492384\n",
       " ON_NET            0.364404\n",
       " ORANGE            0.415034\n",
       " TIGO              0.598348\n",
       " ZONE1             0.921260\n",
       " ZONE2             0.936130\n",
       " MRG               0.000000\n",
       " REGULARITY        0.000000\n",
       " TOP_PACK          0.418064\n",
       " FREQ_TOP_PACK     0.418064\n",
       " CHURN             0.200000\n",
       " is_train          0.000000\n",
       " dtype: float64,\n",
       " (100000, 19),\n",
       " (400000, 20))"
      ]
     },
     "execution_count": 45,
     "metadata": {},
     "output_type": "execute_result"
    }
   ],
   "source": [
    "check_null(all_data), test.shape, train.shape"
   ]
  },
  {
   "cell_type": "code",
   "execution_count": 46,
   "metadata": {},
   "outputs": [],
   "source": [
    "# getting the list of categorical columns\n",
    "##\n",
    "\n",
    "cat_cols = [cname for cname in all_data.drop(['is_train', 'user_id', 'CHURN'], axis=1)\n",
    "            if all_data[cname].dtype == 'object']"
   ]
  },
  {
   "cell_type": "code",
   "execution_count": 47,
   "metadata": {},
   "outputs": [
    {
     "data": {
      "text/plain": [
       "['REGION', 'TENURE', 'MRG', 'TOP_PACK']"
      ]
     },
     "execution_count": 47,
     "metadata": {},
     "output_type": "execute_result"
    }
   ],
   "source": [
    "cat_cols"
   ]
  },
  {
   "cell_type": "code",
   "execution_count": 48,
   "metadata": {},
   "outputs": [
    {
     "data": {
      "text/plain": [
       "<matplotlib.axes._subplots.AxesSubplot at 0x2370cc3c748>"
      ]
     },
     "execution_count": 48,
     "metadata": {},
     "output_type": "execute_result"
    },
    {
     "data": {
      "image/png": "[encoded data removed]",
      "text/plain": [
       "<Figure size 432x288 with 2 Axes>"
      ]
     },
     "metadata": {
      "needs_background": "light"
     },
     "output_type": "display_data"
    }
   ],
   "source": [
    "# Visualizing the correlation between the data and the target\n",
    "##\n",
    "\n",
    "sns.heatmap(all_data.corr())"
   ]
  },
  {
   "cell_type": "code",
   "execution_count": 10,
   "metadata": {},
   "outputs": [],
   "source": [
    "### Feature Engineerning\n",
    "all_data['regularity_churn'] = np.NaN\n",
    "for i in range(all_data.shape[0]):\n",
    "    if all_data['REGULARITY'].iloc[i] < 15:\n",
    "        all_data['regularity_churn'].iloc[i] = 'Likely churned'\n",
    "    elif all_data['REGULARITY'].iloc[i] > 15 and all_data['REGULARITY'].iloc[i] < 40:\n",
    "        all_data['regularity_churn'].iloc[i] = 'prone to churn'\n",
    "    elif all_data['REGULARITY'].iloc[i] > 40:\n",
    "        all_data['regularity_churn'].iloc[i] = 'Unlikely churned'\n",
    "cat_cols.append('regularity_churn')"
   ]
  },
  {
   "cell_type": "code",
   "execution_count": 11,
   "metadata": {},
   "outputs": [],
   "source": [
    "all_data['R_RC'] = all_data['REGULARITY'].map(str) + all_data['regularity_churn'].map(str)"
   ]
  },
  {
   "cell_type": "code",
   "execution_count": 12,
   "metadata": {},
   "outputs": [],
   "source": [
    "all_data['F_FR'] = all_data['FREQUENCE'].map(str) + all_data['FREQUENCE_RECH'].map(str)\n",
    "all_data['AS_RE'] = all_data['ARPU_SEGMENT'].map(str) + all_data['REVENUE'].map(str)"
   ]
  },
  {
   "cell_type": "code",
   "execution_count": 13,
   "metadata": {},
   "outputs": [],
   "source": [
    "all_data['ArE_INCOME'] = all_data['ARPU_SEGMENT'] / all_data['REVENUE']"
   ]
  },
  {
   "cell_type": "code",
   "execution_count": 14,
   "metadata": {},
   "outputs": [
    {
     "data": {
      "image/png": "[encoded data removed]",
      "text/plain": [
       "<Figure size 432x288 with 1 Axes>"
      ]
     },
     "metadata": {
      "needs_background": "light"
     },
     "output_type": "display_data"
    },
    {
     "data": {
      "image/png": "[encoded data removed]",
      "text/plain": [
       "<Figure size 432x288 with 1 Axes>"
      ]
     },
     "metadata": {
      "needs_background": "light"
     },
     "output_type": "display_data"
    },
    {
     "data": {
      "image/png": "[encoded data removed]",
      "text/plain": [
       "<Figure size 432x288 with 1 Axes>"
      ]
     },
     "metadata": {
      "needs_background": "light"
     },
     "output_type": "display_data"
    },
    {
     "data": {
      "image/png": "[encoded data removed]",
      "text/plain": [
       "<Figure size 432x288 with 1 Axes>"
      ]
     },
     "metadata": {
      "needs_background": "light"
     },
     "output_type": "display_data"
    }
   ],
   "source": [
    "# Visualizing the categorical features before encoding\n",
    "categorical_plot(all_data.drop(['TOP_PACK'], axis=1))"
   ]
  },
  {
   "cell_type": "code",
   "execution_count": 38,
   "metadata": {},
   "outputs": [],
   "source": [
    "## One Hot and Label Encoding\n",
    "all_data = pd.concat( [all_data, pd.get_dummies(all_data['REGION'], prefix='_REG', drop_first=True)], axis=1 )\n",
    "all_data = pd.concat( [all_data, pd.get_dummies(all_data['TENURE'], prefix='_TEN', drop_first=True)], axis=1 )\n",
    "\n",
    "\n",
    "all_data['REGION'] = all_data['REGION'].factorize()[0]\n",
    "all_data['TENURE'] = all_data['TENURE'].factorize()[0]\n",
    "\n",
    "all_data['TOP_PACK'] = all_data['TOP_PACK'].map(all_data['TOP_PACK'].value_counts())\n",
    "all_data['regularity_churn'] = all_data['regularity_churn'].map(all_data['regularity_churn'].value_counts())"
   ]
  },
  {
   "cell_type": "code",
   "execution_count": 16,
   "metadata": {},
   "outputs": [],
   "source": [
    "all_data['R_RC'] = all_data['R_RC'].map(all_data['R_RC'].value_counts())\n",
    "all_data['F_FR'] = all_data['F_FR'].map(all_data['F_FR'].value_counts())\n",
    "all_data['AS_RE'] = all_data['AS_RE'].map(all_data['AS_RE'].value_counts())"
   ]
  },
  {
   "cell_type": "code",
   "execution_count": 17,
   "metadata": {},
   "outputs": [],
   "source": [
    "all_data.drop(['ZONE1', 'ZONE2', 'MRG'], axis=1, inplace=True)"
   ]
  },
  {
   "cell_type": "code",
   "execution_count": 18,
   "metadata": {},
   "outputs": [],
   "source": [
    "all_data['ArE_INCOME'] = all_data['ArE_INCOME'].fillna(-999)"
   ]
  },
  {
   "cell_type": "code",
   "execution_count": 19,
   "metadata": {},
   "outputs": [],
   "source": [
    "nan_cols = [cname for cname in all_data.columns\n",
    "            if all_data[cname].isnull().sum() > 0]\n",
    "nan_cols.remove('CHURN')"
   ]
  },
  {
   "cell_type": "code",
   "execution_count": 20,
   "metadata": {},
   "outputs": [],
   "source": [
    "all_data['regularity_churn'] = all_data['regularity_churn'].fillna(all_data['regularity_churn'].mean())\n",
    "nan_cols.remove('regularity_churn')"
   ]
  },
  {
   "cell_type": "code",
   "execution_count": 21,
   "metadata": {},
   "outputs": [
    {
     "name": "stdout",
     "output_type": "stream",
     "text": [
      "Shape: (500000, 42)\n"
     ]
    },
    {
     "data": {
      "text/plain": [
       "user_id               0.0\n",
       "REGION                0.0\n",
       "TENURE                0.0\n",
       "MONTANT               0.0\n",
       "FREQUENCE_RECH        0.0\n",
       "REVENUE               0.0\n",
       "ARPU_SEGMENT          0.0\n",
       "FREQUENCE             0.0\n",
       "DATA_VOLUME           0.0\n",
       "ON_NET                0.0\n",
       "ORANGE                0.0\n",
       "TIGO                  0.0\n",
       "REGULARITY            0.0\n",
       "TOP_PACK              0.0\n",
       "FREQ_TOP_PACK         0.0\n",
       "CHURN                 0.2\n",
       "is_train              0.0\n",
       "regularity_churn      0.0\n",
       "R_RC                  0.0\n",
       "F_FR                  0.0\n",
       "AS_RE                 0.0\n",
       "ArE_INCOME            0.0\n",
       "_REG_DIOURBEL         0.0\n",
       "_REG_FATICK           0.0\n",
       "_REG_KAFFRINE         0.0\n",
       "_REG_KAOLACK          0.0\n",
       "_REG_KEDOUGOU         0.0\n",
       "_REG_KOLDA            0.0\n",
       "_REG_LOUGA            0.0\n",
       "_REG_MATAM            0.0\n",
       "_REG_SAINT-LOUIS      0.0\n",
       "_REG_SEDHIOU          0.0\n",
       "_REG_TAMBACOUNDA      0.0\n",
       "_REG_THIES            0.0\n",
       "_REG_ZIGUINCHOR       0.0\n",
       "_TEN_E 6-9 month      0.0\n",
       "_TEN_F 9-12 month     0.0\n",
       "_TEN_G 12-15 month    0.0\n",
       "_TEN_H 15-18 month    0.0\n",
       "_TEN_I 18-21 month    0.0\n",
       "_TEN_J 21-24 month    0.0\n",
       "_TEN_K > 24 month     0.0\n",
       "dtype: float64"
      ]
     },
     "execution_count": 21,
     "metadata": {},
     "output_type": "execute_result"
    }
   ],
   "source": [
    "for i in range(len(nan_cols)):\n",
    "    all_data[nan_cols[i]] = all_data[nan_cols[i]].fillna(all_data[nan_cols[i]].median())\n",
    "    \n",
    "check_null(all_data)"
   ]
  },
  {
   "cell_type": "code",
   "execution_count": 22,
   "metadata": {},
   "outputs": [
    {
     "data": {
      "text/html": [
       "<div>\n",
       "<style scoped>\n",
       "    .dataframe tbody tr th:only-of-type {\n",
       "        vertical-align: middle;\n",
       "    }\n",
       "\n",
       "    .dataframe tbody tr th {\n",
       "        vertical-align: top;\n",
       "    }\n",
       "\n",
       "    .dataframe thead th {\n",
       "        text-align: right;\n",
       "    }\n",
       "</style>\n",
       "<table border=\"1\" class=\"dataframe\">\n",
       "  <thead>\n",
       "    <tr style=\"text-align: right;\">\n",
       "      <th></th>\n",
       "      <th>REGION</th>\n",
       "      <th>TENURE</th>\n",
       "      <th>MONTANT</th>\n",
       "      <th>FREQUENCE_RECH</th>\n",
       "      <th>REVENUE</th>\n",
       "      <th>ARPU_SEGMENT</th>\n",
       "      <th>FREQUENCE</th>\n",
       "      <th>DATA_VOLUME</th>\n",
       "      <th>ON_NET</th>\n",
       "      <th>ORANGE</th>\n",
       "      <th>...</th>\n",
       "      <th>_REG_TAMBACOUNDA</th>\n",
       "      <th>_REG_THIES</th>\n",
       "      <th>_REG_ZIGUINCHOR</th>\n",
       "      <th>_TEN_E 6-9 month</th>\n",
       "      <th>_TEN_F 9-12 month</th>\n",
       "      <th>_TEN_G 12-15 month</th>\n",
       "      <th>_TEN_H 15-18 month</th>\n",
       "      <th>_TEN_I 18-21 month</th>\n",
       "      <th>_TEN_J 21-24 month</th>\n",
       "      <th>_TEN_K &gt; 24 month</th>\n",
       "    </tr>\n",
       "  </thead>\n",
       "  <tbody>\n",
       "    <tr>\n",
       "      <th>count</th>\n",
       "      <td>500000.000000</td>\n",
       "      <td>500000.000000</td>\n",
       "      <td>500000.000000</td>\n",
       "      <td>500000.000000</td>\n",
       "      <td>500000.000000</td>\n",
       "      <td>500000.000000</td>\n",
       "      <td>500000.000000</td>\n",
       "      <td>500000.000000</td>\n",
       "      <td>500000.000000</td>\n",
       "      <td>500000.000000</td>\n",
       "      <td>...</td>\n",
       "      <td>500000.000000</td>\n",
       "      <td>500000.000000</td>\n",
       "      <td>500000.000000</td>\n",
       "      <td>500000.000000</td>\n",
       "      <td>500000.000000</td>\n",
       "      <td>500000.000000</td>\n",
       "      <td>500000.000000</td>\n",
       "      <td>500000.000000</td>\n",
       "      <td>500000.000000</td>\n",
       "      <td>500000.000000</td>\n",
       "    </tr>\n",
       "    <tr>\n",
       "      <th>mean</th>\n",
       "      <td>2.536640</td>\n",
       "      <td>0.160624</td>\n",
       "      <td>4641.726616</td>\n",
       "      <td>9.930748</td>\n",
       "      <td>4664.587018</td>\n",
       "      <td>1554.865890</td>\n",
       "      <td>12.290246</td>\n",
       "      <td>1840.762494</td>\n",
       "      <td>185.650376</td>\n",
       "      <td>67.845162</td>\n",
       "      <td>...</td>\n",
       "      <td>0.025738</td>\n",
       "      <td>0.083350</td>\n",
       "      <td>0.010036</td>\n",
       "      <td>0.000888</td>\n",
       "      <td>0.004430</td>\n",
       "      <td>0.006976</td>\n",
       "      <td>0.012138</td>\n",
       "      <td>0.020850</td>\n",
       "      <td>0.005804</td>\n",
       "      <td>0.948528</td>\n",
       "    </tr>\n",
       "    <tr>\n",
       "      <th>std</th>\n",
       "      <td>3.624154</td>\n",
       "      <td>0.775031</td>\n",
       "      <td>5851.437382</td>\n",
       "      <td>10.913042</td>\n",
       "      <td>5965.135263</td>\n",
       "      <td>1988.375196</td>\n",
       "      <td>12.182699</td>\n",
       "      <td>8654.035204</td>\n",
       "      <td>706.306282</td>\n",
       "      <td>159.553315</td>\n",
       "      <td>...</td>\n",
       "      <td>0.158353</td>\n",
       "      <td>0.276411</td>\n",
       "      <td>0.099676</td>\n",
       "      <td>0.029786</td>\n",
       "      <td>0.066411</td>\n",
       "      <td>0.083231</td>\n",
       "      <td>0.109502</td>\n",
       "      <td>0.142882</td>\n",
       "      <td>0.075963</td>\n",
       "      <td>0.220959</td>\n",
       "    </tr>\n",
       "    <tr>\n",
       "      <th>min</th>\n",
       "      <td>-1.000000</td>\n",
       "      <td>0.000000</td>\n",
       "      <td>20.000000</td>\n",
       "      <td>1.000000</td>\n",
       "      <td>1.000000</td>\n",
       "      <td>0.000000</td>\n",
       "      <td>1.000000</td>\n",
       "      <td>0.000000</td>\n",
       "      <td>0.000000</td>\n",
       "      <td>0.000000</td>\n",
       "      <td>...</td>\n",
       "      <td>0.000000</td>\n",
       "      <td>0.000000</td>\n",
       "      <td>0.000000</td>\n",
       "      <td>0.000000</td>\n",
       "      <td>0.000000</td>\n",
       "      <td>0.000000</td>\n",
       "      <td>0.000000</td>\n",
       "      <td>0.000000</td>\n",
       "      <td>0.000000</td>\n",
       "      <td>0.000000</td>\n",
       "    </tr>\n",
       "    <tr>\n",
       "      <th>25%</th>\n",
       "      <td>-1.000000</td>\n",
       "      <td>0.000000</td>\n",
       "      <td>2000.000000</td>\n",
       "      <td>4.000000</td>\n",
       "      <td>1900.000000</td>\n",
       "      <td>633.000000</td>\n",
       "      <td>6.000000</td>\n",
       "      <td>241.000000</td>\n",
       "      <td>12.000000</td>\n",
       "      <td>20.000000</td>\n",
       "      <td>...</td>\n",
       "      <td>0.000000</td>\n",
       "      <td>0.000000</td>\n",
       "      <td>0.000000</td>\n",
       "      <td>0.000000</td>\n",
       "      <td>0.000000</td>\n",
       "      <td>0.000000</td>\n",
       "      <td>0.000000</td>\n",
       "      <td>0.000000</td>\n",
       "      <td>0.000000</td>\n",
       "      <td>1.000000</td>\n",
       "    </tr>\n",
       "    <tr>\n",
       "      <th>50%</th>\n",
       "      <td>3.000000</td>\n",
       "      <td>0.000000</td>\n",
       "      <td>3000.000000</td>\n",
       "      <td>7.000000</td>\n",
       "      <td>3000.000000</td>\n",
       "      <td>1000.000000</td>\n",
       "      <td>9.000000</td>\n",
       "      <td>267.000000</td>\n",
       "      <td>27.000000</td>\n",
       "      <td>29.000000</td>\n",
       "      <td>...</td>\n",
       "      <td>0.000000</td>\n",
       "      <td>0.000000</td>\n",
       "      <td>0.000000</td>\n",
       "      <td>0.000000</td>\n",
       "      <td>0.000000</td>\n",
       "      <td>0.000000</td>\n",
       "      <td>0.000000</td>\n",
       "      <td>0.000000</td>\n",
       "      <td>0.000000</td>\n",
       "      <td>1.000000</td>\n",
       "    </tr>\n",
       "    <tr>\n",
       "      <th>75%</th>\n",
       "      <td>5.000000</td>\n",
       "      <td>0.000000</td>\n",
       "      <td>4600.000000</td>\n",
       "      <td>10.000000</td>\n",
       "      <td>4700.000000</td>\n",
       "      <td>1567.000000</td>\n",
       "      <td>13.000000</td>\n",
       "      <td>300.000000</td>\n",
       "      <td>55.000000</td>\n",
       "      <td>41.000000</td>\n",
       "      <td>...</td>\n",
       "      <td>0.000000</td>\n",
       "      <td>0.000000</td>\n",
       "      <td>0.000000</td>\n",
       "      <td>0.000000</td>\n",
       "      <td>0.000000</td>\n",
       "      <td>0.000000</td>\n",
       "      <td>0.000000</td>\n",
       "      <td>0.000000</td>\n",
       "      <td>0.000000</td>\n",
       "      <td>1.000000</td>\n",
       "    </tr>\n",
       "    <tr>\n",
       "      <th>max</th>\n",
       "      <td>13.000000</td>\n",
       "      <td>7.000000</td>\n",
       "      <td>226550.000000</td>\n",
       "      <td>133.000000</td>\n",
       "      <td>233413.000000</td>\n",
       "      <td>77804.000000</td>\n",
       "      <td>91.000000</td>\n",
       "      <td>934576.000000</td>\n",
       "      <td>45011.000000</td>\n",
       "      <td>6788.000000</td>\n",
       "      <td>...</td>\n",
       "      <td>1.000000</td>\n",
       "      <td>1.000000</td>\n",
       "      <td>1.000000</td>\n",
       "      <td>1.000000</td>\n",
       "      <td>1.000000</td>\n",
       "      <td>1.000000</td>\n",
       "      <td>1.000000</td>\n",
       "      <td>1.000000</td>\n",
       "      <td>1.000000</td>\n",
       "      <td>1.000000</td>\n",
       "    </tr>\n",
       "  </tbody>\n",
       "</table>\n",
       "<p>8 rows × 41 columns</p>\n",
       "</div>"
      ],
      "text/plain": [
       "              REGION         TENURE        MONTANT  FREQUENCE_RECH  \\\n",
       "count  500000.000000  500000.000000  500000.000000   500000.000000   \n",
       "mean        2.536640       0.160624    4641.726616        9.930748   \n",
       "std         3.624154       0.775031    5851.437382       10.913042   \n",
       "min        -1.000000       0.000000      20.000000        1.000000   \n",
       "25%        -1.000000       0.000000    2000.000000        4.000000   \n",
       "50%         3.000000       0.000000    3000.000000        7.000000   \n",
       "75%         5.000000       0.000000    4600.000000       10.000000   \n",
       "max        13.000000       7.000000  226550.000000      133.000000   \n",
       "\n",
       "             REVENUE   ARPU_SEGMENT      FREQUENCE    DATA_VOLUME  \\\n",
       "count  500000.000000  500000.000000  500000.000000  500000.000000   \n",
       "mean     4664.587018    1554.865890      12.290246    1840.762494   \n",
       "std      5965.135263    1988.375196      12.182699    8654.035204   \n",
       "min         1.000000       0.000000       1.000000       0.000000   \n",
       "25%      1900.000000     633.000000       6.000000     241.000000   \n",
       "50%      3000.000000    1000.000000       9.000000     267.000000   \n",
       "75%      4700.000000    1567.000000      13.000000     300.000000   \n",
       "max    233413.000000   77804.000000      91.000000  934576.000000   \n",
       "\n",
       "              ON_NET         ORANGE  ...  _REG_TAMBACOUNDA     _REG_THIES  \\\n",
       "count  500000.000000  500000.000000  ...     500000.000000  500000.000000   \n",
       "mean      185.650376      67.845162  ...          0.025738       0.083350   \n",
       "std       706.306282     159.553315  ...          0.158353       0.276411   \n",
       "min         0.000000       0.000000  ...          0.000000       0.000000   \n",
       "25%        12.000000      20.000000  ...          0.000000       0.000000   \n",
       "50%        27.000000      29.000000  ...          0.000000       0.000000   \n",
       "75%        55.000000      41.000000  ...          0.000000       0.000000   \n",
       "max     45011.000000    6788.000000  ...          1.000000       1.000000   \n",
       "\n",
       "       _REG_ZIGUINCHOR  _TEN_E 6-9 month  _TEN_F 9-12 month  \\\n",
       "count    500000.000000     500000.000000      500000.000000   \n",
       "mean          0.010036          0.000888           0.004430   \n",
       "std           0.099676          0.029786           0.066411   \n",
       "min           0.000000          0.000000           0.000000   \n",
       "25%           0.000000          0.000000           0.000000   \n",
       "50%           0.000000          0.000000           0.000000   \n",
       "75%           0.000000          0.000000           0.000000   \n",
       "max           1.000000          1.000000           1.000000   \n",
       "\n",
       "       _TEN_G 12-15 month  _TEN_H 15-18 month  _TEN_I 18-21 month  \\\n",
       "count       500000.000000       500000.000000       500000.000000   \n",
       "mean             0.006976            0.012138            0.020850   \n",
       "std              0.083231            0.109502            0.142882   \n",
       "min              0.000000            0.000000            0.000000   \n",
       "25%              0.000000            0.000000            0.000000   \n",
       "50%              0.000000            0.000000            0.000000   \n",
       "75%              0.000000            0.000000            0.000000   \n",
       "max              1.000000            1.000000            1.000000   \n",
       "\n",
       "       _TEN_J 21-24 month  _TEN_K > 24 month  \n",
       "count       500000.000000      500000.000000  \n",
       "mean             0.005804           0.948528  \n",
       "std              0.075963           0.220959  \n",
       "min              0.000000           0.000000  \n",
       "25%              0.000000           1.000000  \n",
       "50%              0.000000           1.000000  \n",
       "75%              0.000000           1.000000  \n",
       "max              1.000000           1.000000  \n",
       "\n",
       "[8 rows x 41 columns]"
      ]
     },
     "execution_count": 22,
     "metadata": {},
     "output_type": "execute_result"
    }
   ],
   "source": [
    "all_data.describe()"
   ]
  },
  {
   "cell_type": "code",
   "execution_count": 23,
   "metadata": {},
   "outputs": [
    {
     "data": {
      "text/html": [
       "<div>\n",
       "<style scoped>\n",
       "    .dataframe tbody tr th:only-of-type {\n",
       "        vertical-align: middle;\n",
       "    }\n",
       "\n",
       "    .dataframe tbody tr th {\n",
       "        vertical-align: top;\n",
       "    }\n",
       "\n",
       "    .dataframe thead th {\n",
       "        text-align: right;\n",
       "    }\n",
       "</style>\n",
       "<table border=\"1\" class=\"dataframe\">\n",
       "  <thead>\n",
       "    <tr style=\"text-align: right;\">\n",
       "      <th></th>\n",
       "      <th>Skewed</th>\n",
       "    </tr>\n",
       "  </thead>\n",
       "  <tbody>\n",
       "    <tr>\n",
       "      <th>_REG_KEDOUGOU</th>\n",
       "      <td>47.319688</td>\n",
       "    </tr>\n",
       "    <tr>\n",
       "      <th>DATA_VOLUME</th>\n",
       "      <td>35.821392</td>\n",
       "    </tr>\n",
       "    <tr>\n",
       "      <th>_TEN_E 6-9 month</th>\n",
       "      <td>33.513087</td>\n",
       "    </tr>\n",
       "    <tr>\n",
       "      <th>_REG_SEDHIOU</th>\n",
       "      <td>26.387537</td>\n",
       "    </tr>\n",
       "    <tr>\n",
       "      <th>TIGO</th>\n",
       "      <td>18.477329</td>\n",
       "    </tr>\n",
       "  </tbody>\n",
       "</table>\n",
       "</div>"
      ],
      "text/plain": [
       "                     Skewed\n",
       "_REG_KEDOUGOU     47.319688\n",
       "DATA_VOLUME       35.821392\n",
       "_TEN_E 6-9 month  33.513087\n",
       "_REG_SEDHIOU      26.387537\n",
       "TIGO              18.477329"
      ]
     },
     "execution_count": 23,
     "metadata": {},
     "output_type": "execute_result"
    }
   ],
   "source": [
    "## Normalizing the data\n",
    "from scipy.stats import skew, norm\n",
    "\n",
    "#Getting the numerical columns\n",
    "num_cols = [cname for cname in all_data.drop(['is_train', 'user_id', 'CHURN'], axis=1)\n",
    "            if cname not in cat_cols]\n",
    "\n",
    "skew_feats = all_data[num_cols].apply(lambda x: skew(x)).sort_values(ascending=False)\n",
    "high_skew_feats = skew_feats[skew_feats > 0.5]\n",
    "skew_index = high_skew_feats\n",
    "\n",
    "skewed_feats = pd.DataFrame({'Skewed' : high_skew_feats})\n",
    "skewed_feats.head(5)"
   ]
  },
  {
   "cell_type": "code",
   "execution_count": 24,
   "metadata": {},
   "outputs": [],
   "source": [
    "high_skew_feats.index\n",
    "selected_skew_feats = ['R_RC', 'AS_RE', 'FREQUENCE_RECH', 'ON_NET', 'TIGO',\n",
    "                        'FREQUENCE', 'R_RC', 'MONTANT', 'ORANGE', 'DATA_VOLUME', \n",
    "                        'ARPU_SEGMENT', 'REVENUE', 'FREQ_TOP_PACK',]"
   ]
  },
  {
   "cell_type": "code",
   "execution_count": 25,
   "metadata": {},
   "outputs": [
    {
     "data": {
      "image/png": "[encoded data removed]",
      "text/plain": [
       "<Figure size 432x288 with 2 Axes>"
      ]
     },
     "metadata": {
      "needs_background": "light"
     },
     "output_type": "display_data"
    },
    {
     "data": {
      "image/png": "[encoded data removed]",
      "text/plain": [
       "<Figure size 432x288 with 2 Axes>"
      ]
     },
     "metadata": {
      "needs_background": "light"
     },
     "output_type": "display_data"
    }
   ],
   "source": [
    "# Visualizing the a few of the skewed features\n",
    "for cname in ['MONTANT', 'FREQUENCE_RECH']:\n",
    "    fig, ax = plt.subplots(1, 2)\n",
    "    \n",
    "    sns.distplot(all_data[cname], ax=ax[0])    #Plots the original datapoints\n",
    "    sns.distplot(np.log1p(all_data[cname]), ax=ax[1])    #Plots the transformed datapoints\n",
    "    \n",
    "    plt.title(f\"Transformed {cname}\")"
   ]
  },
  {
   "cell_type": "code",
   "execution_count": 26,
   "metadata": {},
   "outputs": [],
   "source": [
    "for cname in selected_skew_feats:\n",
    "    all_data[cname] = np.log1p(all_data[cname])"
   ]
  },
  {
   "cell_type": "code",
   "execution_count": 27,
   "metadata": {},
   "outputs": [],
   "source": [
    "from sklearn.model_selection import train_test_split\n",
    "from sklearn.metrics import log_loss\n",
    "\n",
    "from sklearn.linear_model import LogisticRegression\n",
    "from sklearn.ensemble import RandomForestClassifier, GradientBoostingClassifier\n",
    "from sklearn.tree import DecisionTreeClassifier"
   ]
  },
  {
   "cell_type": "code",
   "execution_count": 28,
   "metadata": {},
   "outputs": [
    {
     "data": {
      "text/plain": [
       "((400000, 42), (100000, 42))"
      ]
     },
     "execution_count": 28,
     "metadata": {},
     "output_type": "execute_result"
    }
   ],
   "source": [
    "train_data = all_data.loc[all_data['is_train']==1]\n",
    "test_data = all_data.loc[all_data['is_train']==0]\n",
    "\n",
    "train_data.shape, test_data.shape"
   ]
  },
  {
   "cell_type": "code",
   "execution_count": 29,
   "metadata": {},
   "outputs": [],
   "source": [
    "target = train_data['CHURN']\n",
    "train_data.drop(['user_id', 'CHURN', 'is_train'], axis=1, inplace=True)\n",
    "test_index = test_data.index\n",
    "test_data.drop(['user_id', 'CHURN', 'is_train'], axis=1, inplace=True)"
   ]
  },
  {
   "cell_type": "code",
   "execution_count": 30,
   "metadata": {},
   "outputs": [],
   "source": [
    "feature_train, feature_test, label_train, label_test = train_test_split(train_data, target,\n",
    "                                                                           stratify=target, test_size=0.25,\n",
    "                                                                           random_state=0)"
   ]
  },
  {
   "cell_type": "code",
   "execution_count": 31,
   "metadata": {},
   "outputs": [],
   "source": [
    "lr = LogisticRegression()\n",
    "rf = RandomForestClassifier()\n",
    "gbm = GradientBoostingClassifier()\n",
    "decision_tree = DecisionTreeClassifier()"
   ]
  },
  {
   "cell_type": "code",
   "execution_count": 32,
   "metadata": {},
   "outputs": [
    {
     "data": {
      "text/plain": [
       "DecisionTreeClassifier(ccp_alpha=0.0, class_weight=None, criterion='gini',\n",
       "                       max_depth=None, max_features=None, max_leaf_nodes=None,\n",
       "                       min_impurity_decrease=0.0, min_impurity_split=None,\n",
       "                       min_samples_leaf=1, min_samples_split=2,\n",
       "                       min_weight_fraction_leaf=0.0, presort='deprecated',\n",
       "                       random_state=None, splitter='best')"
      ]
     },
     "execution_count": 32,
     "metadata": {},
     "output_type": "execute_result"
    }
   ],
   "source": [
    "lr.fit(feature_train, label_train)\n",
    "rf.fit(feature_train, label_train)\n",
    "gbm.fit(feature_train, label_train)\n",
    "decision_tree.fit(feature_train, label_train)"
   ]
  },
  {
   "cell_type": "code",
   "execution_count": 33,
   "metadata": {},
   "outputs": [
    {
     "name": "stdout",
     "output_type": "stream",
     "text": [
      "Logistic Regression Log loss: 0.308576027024899\n",
      "RandomForestClassifier Log loss: 0.32467004761602314\n",
      "GradientBoostingClassifier Log loss: 0.25419649593289767\n",
      "DecisionTreeClassifier Log loss: 2.2730474241168332\n"
     ]
    }
   ],
   "source": [
    "print('Logistic Regression Log loss: {}'.format(log_loss(label_test, lr.predict_proba(feature_test)[:,1])))\n",
    "print('RandomForestClassifier Log loss: {}'.format(log_loss(label_test, rf.predict_proba(feature_test)[:,1])))\n",
    "print('GradientBoostingClassifier Log loss: {}'.format(log_loss(label_test, gbm.predict_proba(feature_test)[:,1])))\n",
    "print('DecisionTreeClassifier Log loss: {}'.format(log_loss(label_test, decision_tree.predict_proba(feature_test)[:,1])))"
   ]
  },
  {
   "cell_type": "code",
   "execution_count": 34,
   "metadata": {},
   "outputs": [
    {
     "data": {
      "image/png": "[encoded data removed]",
      "text/plain": [
       "<Figure size 1080x576 with 1 Axes>"
      ]
     },
     "metadata": {
      "needs_background": "light"
     },
     "output_type": "display_data"
    }
   ],
   "source": [
    "# Plotting the feature Importance\n",
    "\n",
    "plot_feature_importances(rf, train_data)"
   ]
  },
  {
   "cell_type": "code",
   "execution_count": 35,
   "metadata": {},
   "outputs": [
    {
     "data": {
      "image/png": "[encoded data removed]",
      "text/plain": [
       "<Figure size 1080x576 with 1 Axes>"
      ]
     },
     "metadata": {
      "needs_background": "light"
     },
     "output_type": "display_data"
    }
   ],
   "source": [
    "plot_feature_importances(gbm, train_data)"
   ]
  },
  {
   "cell_type": "code",
   "execution_count": 37,
   "metadata": {},
   "outputs": [],
   "source": [
    "gbm.fit(train_data, target)\n",
    "prediction = gbm.predict_proba(test_data)\n",
    "\n",
    "my_submission = pd.DataFrame({'user_id':test['user_id'],\n",
    "                              'CHURN':prediction[:,1]}, index=None)\n",
    "my_submission.to_csv('my_submission.csv', index=False)"
   ]
  },
  {
   "cell_type": "code",
   "execution_count": null,
   "metadata": {},
   "outputs": [],
   "source": []
  }
 ],
 "metadata": {
  "kernelspec": {
   "display_name": "Python 3",
   "language": "python",
   "name": "python3"
  },
  "language_info": {
   "codemirror_mode": {
    "name": "ipython",
    "version": 3
   },
   "file_extension": ".py",
   "mimetype": "text/x-python",
   "name": "python",
   "nbconvert_exporter": "python",
   "pygments_lexer": "ipython3",
   "version": "3.9.1"
  }
 },
 "nbformat": 4,
 "nbformat_minor": 4
}
